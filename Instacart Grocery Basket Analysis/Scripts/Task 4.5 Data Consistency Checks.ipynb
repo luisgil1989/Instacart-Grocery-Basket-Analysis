{
 "cells": [
  {
   "cell_type": "code",
   "execution_count": 1,
   "id": "2ff20b2d",
   "metadata": {},
   "outputs": [],
   "source": [
    "import pandas as pd\n",
    "import numpy as np\n",
    "import os"
   ]
  },
  {
   "cell_type": "code",
   "execution_count": 2,
   "id": "201e12fe",
   "metadata": {},
   "outputs": [],
   "source": [
    "# Set the path to the main project folder\n",
    "path = r'C:\\Users\\luis\\Desktop\\Carrer Foundry boot camp\\Python Fundamentals for Data Analysts'\n",
    "\n",
    "# Import the orders data\n",
    "df_ords = pd.read_csv(os.path.join(path, 'Data', 'Original Data', '4.3_orders_products', 'orders.csv'))\n",
    "\n",
    "# Import the products data\n",
    "df_prods = pd.read_csv(os.path.join(path, 'Data', 'Original Data', '4.3_orders_products', 'products.csv'))\n"
   ]
  },
  {
   "cell_type": "code",
   "execution_count": 13,
   "id": "ad0a61af",
   "metadata": {},
   "outputs": [
    {
     "data": {
      "text/html": [
       "<div>\n",
       "<style scoped>\n",
       "    .dataframe tbody tr th:only-of-type {\n",
       "        vertical-align: middle;\n",
       "    }\n",
       "\n",
       "    .dataframe tbody tr th {\n",
       "        vertical-align: top;\n",
       "    }\n",
       "\n",
       "    .dataframe thead th {\n",
       "        text-align: right;\n",
       "    }\n",
       "</style>\n",
       "<table border=\"1\" class=\"dataframe\">\n",
       "  <thead>\n",
       "    <tr style=\"text-align: right;\">\n",
       "      <th></th>\n",
       "      <th>product_id</th>\n",
       "      <th>aisle_id</th>\n",
       "      <th>department_id</th>\n",
       "      <th>prices</th>\n",
       "    </tr>\n",
       "  </thead>\n",
       "  <tbody>\n",
       "    <tr>\n",
       "      <th>count</th>\n",
       "      <td>49693.000000</td>\n",
       "      <td>49693.000000</td>\n",
       "      <td>49693.000000</td>\n",
       "      <td>49693.000000</td>\n",
       "    </tr>\n",
       "    <tr>\n",
       "      <th>mean</th>\n",
       "      <td>24844.345139</td>\n",
       "      <td>67.770249</td>\n",
       "      <td>11.728433</td>\n",
       "      <td>9.994136</td>\n",
       "    </tr>\n",
       "    <tr>\n",
       "      <th>std</th>\n",
       "      <td>14343.717401</td>\n",
       "      <td>38.316774</td>\n",
       "      <td>5.850282</td>\n",
       "      <td>453.519686</td>\n",
       "    </tr>\n",
       "    <tr>\n",
       "      <th>min</th>\n",
       "      <td>1.000000</td>\n",
       "      <td>1.000000</td>\n",
       "      <td>1.000000</td>\n",
       "      <td>1.000000</td>\n",
       "    </tr>\n",
       "    <tr>\n",
       "      <th>25%</th>\n",
       "      <td>12423.000000</td>\n",
       "      <td>35.000000</td>\n",
       "      <td>7.000000</td>\n",
       "      <td>4.100000</td>\n",
       "    </tr>\n",
       "    <tr>\n",
       "      <th>50%</th>\n",
       "      <td>24845.000000</td>\n",
       "      <td>69.000000</td>\n",
       "      <td>13.000000</td>\n",
       "      <td>7.100000</td>\n",
       "    </tr>\n",
       "    <tr>\n",
       "      <th>75%</th>\n",
       "      <td>37265.000000</td>\n",
       "      <td>100.000000</td>\n",
       "      <td>17.000000</td>\n",
       "      <td>11.200000</td>\n",
       "    </tr>\n",
       "    <tr>\n",
       "      <th>max</th>\n",
       "      <td>49688.000000</td>\n",
       "      <td>134.000000</td>\n",
       "      <td>21.000000</td>\n",
       "      <td>99999.000000</td>\n",
       "    </tr>\n",
       "  </tbody>\n",
       "</table>\n",
       "</div>"
      ],
      "text/plain": [
       "         product_id      aisle_id  department_id        prices\n",
       "count  49693.000000  49693.000000   49693.000000  49693.000000\n",
       "mean   24844.345139     67.770249      11.728433      9.994136\n",
       "std    14343.717401     38.316774       5.850282    453.519686\n",
       "min        1.000000      1.000000       1.000000      1.000000\n",
       "25%    12423.000000     35.000000       7.000000      4.100000\n",
       "50%    24845.000000     69.000000      13.000000      7.100000\n",
       "75%    37265.000000    100.000000      17.000000     11.200000\n",
       "max    49688.000000    134.000000      21.000000  99999.000000"
      ]
     },
     "execution_count": 13,
     "metadata": {},
     "output_type": "execute_result"
    }
   ],
   "source": [
    "# Run df.describe() on df_prods\n",
    "df_prods.describe()\n"
   ]
  },
  {
   "cell_type": "code",
   "execution_count": 14,
   "id": "3d480fef",
   "metadata": {},
   "outputs": [
    {
     "name": "stdout",
     "output_type": "stream",
     "text": [
      "product_name\n"
     ]
    }
   ],
   "source": [
    "# Check for mixed-type data in df_prods\n",
    "mixed_found = False\n",
    "\n",
    "for col in df_prods.columns:\n",
    "    weird = (df_prods[col].map(type) != df_prods[col].map(type).iloc[0]).any()\n",
    "    if weird:\n",
    "        print(col)\n",
    "        mixed_found = True\n",
    "\n",
    "if not mixed_found:\n",
    "    print(\"No mixed values\")\n"
   ]
  },
  {
   "cell_type": "markdown",
   "id": "d8212856",
   "metadata": {},
   "source": [
    "## It looks like the column product_name contains mixed data types. Let's fix this by converting the product_name column to a single data type, in this case, string. After that, we can continue with the consistency checks."
   ]
  },
  {
   "cell_type": "code",
   "execution_count": 15,
   "id": "78866364",
   "metadata": {},
   "outputs": [],
   "source": [
    "# Fix mixed-type data in product_name column\n",
    "df_prods['product_name'] = df_prods['product_name'].astype('str')\n"
   ]
  },
  {
   "cell_type": "code",
   "execution_count": 16,
   "id": "79bdf879",
   "metadata": {},
   "outputs": [
    {
     "name": "stdout",
     "output_type": "stream",
     "text": [
      "No mixed values\n"
     ]
    }
   ],
   "source": [
    "# Check for mixed-type data in df_prods\n",
    "mixed_found = False\n",
    "\n",
    "for col in df_prods.columns:\n",
    "    weird = (df_prods[col].map(type) != df_prods[col].map(type).iloc[0]).any()\n",
    "    if weird:\n",
    "        print(col)\n",
    "        mixed_found = True\n",
    "\n",
    "if not mixed_found:\n",
    "    print(\"No mixed values\")"
   ]
  },
  {
   "cell_type": "code",
   "execution_count": 17,
   "id": "3c794bb1",
   "metadata": {},
   "outputs": [
    {
     "name": "stdout",
     "output_type": "stream",
     "text": [
      "product_id       0\n",
      "product_name     0\n",
      "aisle_id         0\n",
      "department_id    0\n",
      "prices           0\n",
      "dtype: int64\n"
     ]
    }
   ],
   "source": [
    "# Check for missing values in df_prods\n",
    "missing_values = df_prods.isnull().sum()\n",
    "print(missing_values)\n"
   ]
  },
  {
   "cell_type": "code",
   "execution_count": 29,
   "id": "7aeceb06",
   "metadata": {},
   "outputs": [
    {
     "name": "stdout",
     "output_type": "stream",
     "text": [
      "Number of duplicate rows: 5\n"
     ]
    }
   ],
   "source": [
    "# Check for duplicate values in df_prods\n",
    "duplicate_values = df_prods.duplicated().sum()\n",
    "print(f\"Number of duplicate rows: {duplicate_values}\")\n"
   ]
  },
  {
   "cell_type": "code",
   "execution_count": 30,
   "id": "6fb4abce",
   "metadata": {},
   "outputs": [],
   "source": [
    "# Remove duplicate rows in df_prods\n",
    "df_prods_clean_no_dups = df_prods.drop_duplicates()"
   ]
  },
  {
   "cell_type": "code",
   "execution_count": 31,
   "id": "c5f261fe",
   "metadata": {},
   "outputs": [
    {
     "name": "stdout",
     "output_type": "stream",
     "text": [
      "Shape before removing duplicates: (49693, 5)\n",
      "Shape after removing duplicates: (49688, 5)\n"
     ]
    }
   ],
   "source": [
    "# Check the shape to ensure duplicates are removed\n",
    "print(\"Shape before removing duplicates:\", df_prods.shape)\n",
    "print(\"Shape after removing duplicates:\", df_prods_clean_no_dups.shape)"
   ]
  },
  {
   "cell_type": "code",
   "execution_count": 32,
   "id": "4df07c79",
   "metadata": {},
   "outputs": [
    {
     "name": "stdout",
     "output_type": "stream",
     "text": [
      "Number of duplicate rows after cleaning: 0\n"
     ]
    }
   ],
   "source": [
    "# Check for duplicate values again to confirm removal\n",
    "duplicate_values_after = df_prods_clean_no_dups.duplicated().sum()\n",
    "print(f\"Number of duplicate rows after cleaning: {duplicate_values_after}\")"
   ]
  },
  {
   "cell_type": "code",
   "execution_count": 33,
   "id": "bba08ebb",
   "metadata": {},
   "outputs": [],
   "source": [
    "# Export the final cleaned df_prods dataframe\n",
    "df_prods_clean_no_dups.to_csv(os.path.join(path, 'Data', 'Prepared Data', 'products_checked.csv'), index=False)"
   ]
  },
  {
   "cell_type": "markdown",
   "id": "7ba8a541",
   "metadata": {},
   "source": [
    "# DF_ORDS"
   ]
  },
  {
   "cell_type": "code",
   "execution_count": 3,
   "id": "d8f0819e",
   "metadata": {},
   "outputs": [
    {
     "data": {
      "text/html": [
       "<div>\n",
       "<style scoped>\n",
       "    .dataframe tbody tr th:only-of-type {\n",
       "        vertical-align: middle;\n",
       "    }\n",
       "\n",
       "    .dataframe tbody tr th {\n",
       "        vertical-align: top;\n",
       "    }\n",
       "\n",
       "    .dataframe thead th {\n",
       "        text-align: right;\n",
       "    }\n",
       "</style>\n",
       "<table border=\"1\" class=\"dataframe\">\n",
       "  <thead>\n",
       "    <tr style=\"text-align: right;\">\n",
       "      <th></th>\n",
       "      <th>order_id</th>\n",
       "      <th>user_id</th>\n",
       "      <th>order_number</th>\n",
       "      <th>order_dow</th>\n",
       "      <th>order_hour_of_day</th>\n",
       "      <th>days_since_prior_order</th>\n",
       "    </tr>\n",
       "  </thead>\n",
       "  <tbody>\n",
       "    <tr>\n",
       "      <th>count</th>\n",
       "      <td>3.421083e+06</td>\n",
       "      <td>3.421083e+06</td>\n",
       "      <td>3.421083e+06</td>\n",
       "      <td>3.421083e+06</td>\n",
       "      <td>3.421083e+06</td>\n",
       "      <td>3.214874e+06</td>\n",
       "    </tr>\n",
       "    <tr>\n",
       "      <th>mean</th>\n",
       "      <td>1.710542e+06</td>\n",
       "      <td>1.029782e+05</td>\n",
       "      <td>1.715486e+01</td>\n",
       "      <td>2.776219e+00</td>\n",
       "      <td>1.345202e+01</td>\n",
       "      <td>1.111484e+01</td>\n",
       "    </tr>\n",
       "    <tr>\n",
       "      <th>std</th>\n",
       "      <td>9.875817e+05</td>\n",
       "      <td>5.953372e+04</td>\n",
       "      <td>1.773316e+01</td>\n",
       "      <td>2.046829e+00</td>\n",
       "      <td>4.226088e+00</td>\n",
       "      <td>9.206737e+00</td>\n",
       "    </tr>\n",
       "    <tr>\n",
       "      <th>min</th>\n",
       "      <td>1.000000e+00</td>\n",
       "      <td>1.000000e+00</td>\n",
       "      <td>1.000000e+00</td>\n",
       "      <td>0.000000e+00</td>\n",
       "      <td>0.000000e+00</td>\n",
       "      <td>0.000000e+00</td>\n",
       "    </tr>\n",
       "    <tr>\n",
       "      <th>25%</th>\n",
       "      <td>8.552715e+05</td>\n",
       "      <td>5.139400e+04</td>\n",
       "      <td>5.000000e+00</td>\n",
       "      <td>1.000000e+00</td>\n",
       "      <td>1.000000e+01</td>\n",
       "      <td>4.000000e+00</td>\n",
       "    </tr>\n",
       "    <tr>\n",
       "      <th>50%</th>\n",
       "      <td>1.710542e+06</td>\n",
       "      <td>1.026890e+05</td>\n",
       "      <td>1.100000e+01</td>\n",
       "      <td>3.000000e+00</td>\n",
       "      <td>1.300000e+01</td>\n",
       "      <td>7.000000e+00</td>\n",
       "    </tr>\n",
       "    <tr>\n",
       "      <th>75%</th>\n",
       "      <td>2.565812e+06</td>\n",
       "      <td>1.543850e+05</td>\n",
       "      <td>2.300000e+01</td>\n",
       "      <td>5.000000e+00</td>\n",
       "      <td>1.600000e+01</td>\n",
       "      <td>1.500000e+01</td>\n",
       "    </tr>\n",
       "    <tr>\n",
       "      <th>max</th>\n",
       "      <td>3.421083e+06</td>\n",
       "      <td>2.062090e+05</td>\n",
       "      <td>1.000000e+02</td>\n",
       "      <td>6.000000e+00</td>\n",
       "      <td>2.300000e+01</td>\n",
       "      <td>3.000000e+01</td>\n",
       "    </tr>\n",
       "  </tbody>\n",
       "</table>\n",
       "</div>"
      ],
      "text/plain": [
       "           order_id       user_id  order_number     order_dow  \\\n",
       "count  3.421083e+06  3.421083e+06  3.421083e+06  3.421083e+06   \n",
       "mean   1.710542e+06  1.029782e+05  1.715486e+01  2.776219e+00   \n",
       "std    9.875817e+05  5.953372e+04  1.773316e+01  2.046829e+00   \n",
       "min    1.000000e+00  1.000000e+00  1.000000e+00  0.000000e+00   \n",
       "25%    8.552715e+05  5.139400e+04  5.000000e+00  1.000000e+00   \n",
       "50%    1.710542e+06  1.026890e+05  1.100000e+01  3.000000e+00   \n",
       "75%    2.565812e+06  1.543850e+05  2.300000e+01  5.000000e+00   \n",
       "max    3.421083e+06  2.062090e+05  1.000000e+02  6.000000e+00   \n",
       "\n",
       "       order_hour_of_day  days_since_prior_order  \n",
       "count       3.421083e+06            3.214874e+06  \n",
       "mean        1.345202e+01            1.111484e+01  \n",
       "std         4.226088e+00            9.206737e+00  \n",
       "min         0.000000e+00            0.000000e+00  \n",
       "25%         1.000000e+01            4.000000e+00  \n",
       "50%         1.300000e+01            7.000000e+00  \n",
       "75%         1.600000e+01            1.500000e+01  \n",
       "max         2.300000e+01            3.000000e+01  "
      ]
     },
     "execution_count": 3,
     "metadata": {},
     "output_type": "execute_result"
    }
   ],
   "source": [
    "# Run df.describe() on df_ords\n",
    "df_ords.describe()"
   ]
  },
  {
   "cell_type": "code",
   "execution_count": 4,
   "id": "95b8e189",
   "metadata": {},
   "outputs": [
    {
     "data": {
      "text/html": [
       "<div>\n",
       "<style scoped>\n",
       "    .dataframe tbody tr th:only-of-type {\n",
       "        vertical-align: middle;\n",
       "    }\n",
       "\n",
       "    .dataframe tbody tr th {\n",
       "        vertical-align: top;\n",
       "    }\n",
       "\n",
       "    .dataframe thead th {\n",
       "        text-align: right;\n",
       "    }\n",
       "</style>\n",
       "<table border=\"1\" class=\"dataframe\">\n",
       "  <thead>\n",
       "    <tr style=\"text-align: right;\">\n",
       "      <th></th>\n",
       "      <th>order_id</th>\n",
       "      <th>user_id</th>\n",
       "      <th>eval_set</th>\n",
       "      <th>order_number</th>\n",
       "      <th>order_dow</th>\n",
       "      <th>order_hour_of_day</th>\n",
       "      <th>days_since_prior_order</th>\n",
       "    </tr>\n",
       "  </thead>\n",
       "  <tbody>\n",
       "    <tr>\n",
       "      <th>0</th>\n",
       "      <td>2539329</td>\n",
       "      <td>1</td>\n",
       "      <td>prior</td>\n",
       "      <td>1</td>\n",
       "      <td>2</td>\n",
       "      <td>8</td>\n",
       "      <td>NaN</td>\n",
       "    </tr>\n",
       "    <tr>\n",
       "      <th>1</th>\n",
       "      <td>2398795</td>\n",
       "      <td>1</td>\n",
       "      <td>prior</td>\n",
       "      <td>2</td>\n",
       "      <td>3</td>\n",
       "      <td>7</td>\n",
       "      <td>15.0</td>\n",
       "    </tr>\n",
       "    <tr>\n",
       "      <th>2</th>\n",
       "      <td>473747</td>\n",
       "      <td>1</td>\n",
       "      <td>prior</td>\n",
       "      <td>3</td>\n",
       "      <td>3</td>\n",
       "      <td>12</td>\n",
       "      <td>21.0</td>\n",
       "    </tr>\n",
       "    <tr>\n",
       "      <th>3</th>\n",
       "      <td>2254736</td>\n",
       "      <td>1</td>\n",
       "      <td>prior</td>\n",
       "      <td>4</td>\n",
       "      <td>4</td>\n",
       "      <td>7</td>\n",
       "      <td>29.0</td>\n",
       "    </tr>\n",
       "    <tr>\n",
       "      <th>4</th>\n",
       "      <td>431534</td>\n",
       "      <td>1</td>\n",
       "      <td>prior</td>\n",
       "      <td>5</td>\n",
       "      <td>4</td>\n",
       "      <td>15</td>\n",
       "      <td>28.0</td>\n",
       "    </tr>\n",
       "  </tbody>\n",
       "</table>\n",
       "</div>"
      ],
      "text/plain": [
       "   order_id  user_id eval_set  order_number  order_dow  order_hour_of_day  \\\n",
       "0   2539329        1    prior             1          2                  8   \n",
       "1   2398795        1    prior             2          3                  7   \n",
       "2    473747        1    prior             3          3                 12   \n",
       "3   2254736        1    prior             4          4                  7   \n",
       "4    431534        1    prior             5          4                 15   \n",
       "\n",
       "   days_since_prior_order  \n",
       "0                     NaN  \n",
       "1                    15.0  \n",
       "2                    21.0  \n",
       "3                    29.0  \n",
       "4                    28.0  "
      ]
     },
     "execution_count": 4,
     "metadata": {},
     "output_type": "execute_result"
    }
   ],
   "source": [
    "df_ords.head()"
   ]
  },
  {
   "cell_type": "markdown",
   "id": "d95b13b0",
   "metadata": {},
   "source": [
    "### Analysis of df_ords.describe() Output\n",
    "Based on the output of the `df_ords.describe()` function, the following observations are made:\n",
    "\n",
    "- `order_hour_of_day` has a min value of 0 and a max value of 23, which is expected as there are 24 hours in a day.\n",
    "- `days_since_prior_order` has a min value of 0, which is reasonable, but the presence of NaN values should be further investigated.\n",
    "- `order_dow` ranges from 0 to 6, which is consistent with the seven days of the week.\n",
    "\n",
    "There are no immediate red flags in the min and max values, but the missing values in `days_since_prior_order` should be examined.\n"
   ]
  },
  {
   "cell_type": "code",
   "execution_count": 9,
   "id": "584f820a",
   "metadata": {},
   "outputs": [
    {
     "name": "stdout",
     "output_type": "stream",
     "text": [
      "No mixed values\n"
     ]
    }
   ],
   "source": [
    "# Check for mixed-type data in df_ords\n",
    "mixed_found = False\n",
    "\n",
    "for col in df_ords.columns:\n",
    "    weird = (df_ords[col].map(type) != df_ords[col].map(type).iloc[0]).any()\n",
    "    if weird:\n",
    "        print(col)\n",
    "        mixed_found = True\n",
    "\n",
    "if not mixed_found:\n",
    "    print(\"No mixed values\")\n"
   ]
  },
  {
   "cell_type": "markdown",
   "id": "75e2888f",
   "metadata": {},
   "source": [
    "# Check for Missing Values in df_ords:"
   ]
  },
  {
   "cell_type": "code",
   "execution_count": 10,
   "id": "597459fe",
   "metadata": {},
   "outputs": [
    {
     "data": {
      "text/plain": [
       "order_id                       0\n",
       "user_id                        0\n",
       "eval_set                       0\n",
       "order_number                   0\n",
       "order_dow                      0\n",
       "order_hour_of_day              0\n",
       "days_since_prior_order    206209\n",
       "dtype: int64"
      ]
     },
     "execution_count": 10,
     "metadata": {},
     "output_type": "execute_result"
    }
   ],
   "source": [
    "# Check for missing values in df_ords\n",
    "df_ords.isnull().sum()\n"
   ]
  },
  {
   "cell_type": "markdown",
   "id": "47fcdd4d",
   "metadata": {},
   "source": [
    "### Findings on Missing Values\n",
    "The `df_ords` dataframe has missing values in the `days_since_prior_order` column. These missing values likely indicate that this is the first order for the user, so there is no prior order to calculate the days since.\n",
    "\n",
    "### Proposed Method for Addressing Missing Values\n",
    "We will replace the missing values in the `days_since_prior_order` column with 0, indicating that this is the first order.\n"
   ]
  },
  {
   "cell_type": "code",
   "execution_count": 11,
   "id": "42946256",
   "metadata": {},
   "outputs": [],
   "source": [
    "# Addressing missing values\n",
    "df_ords['days_since_prior_order'].fillna(0, inplace=True)\n"
   ]
  },
  {
   "cell_type": "markdown",
   "id": "f56bb09e",
   "metadata": {},
   "source": [
    "### Method Explanation for Addressing Missing Values\n",
    "We used the fillna method with 0 because it logically indicates that there is no prior order. This preserves the integrity of the data while ensuring there are no NaN values that could disrupt analysis.\n"
   ]
  },
  {
   "cell_type": "code",
   "execution_count": 12,
   "id": "df4509f2",
   "metadata": {},
   "outputs": [
    {
     "data": {
      "text/plain": [
       "0"
      ]
     },
     "execution_count": 12,
     "metadata": {},
     "output_type": "execute_result"
    }
   ],
   "source": [
    "# Check for duplicate values in df_ords\n",
    "df_ords.duplicated().sum()\n"
   ]
  },
  {
   "cell_type": "markdown",
   "id": "8e56684a",
   "metadata": {},
   "source": [
    "### Findings on Duplicate Values\n",
    "The `df_ords` dataframe has 0 duplicate values. Therefore, no further action is required for duplicate values.\n"
   ]
  },
  {
   "cell_type": "code",
   "execution_count": 34,
   "id": "a18a4cdb",
   "metadata": {},
   "outputs": [],
   "source": [
    "df_ords.to_csv(os.path.join(path, 'Data', 'Prepared Data', 'orders_cleaned.csv'), index=False)"
   ]
  }
 ],
 "metadata": {
  "kernelspec": {
   "display_name": "Python 3 (ipykernel)",
   "language": "python",
   "name": "python3"
  },
  "language_info": {
   "codemirror_mode": {
    "name": "ipython",
    "version": 3
   },
   "file_extension": ".py",
   "mimetype": "text/x-python",
   "name": "python",
   "nbconvert_exporter": "python",
   "pygments_lexer": "ipython3",
   "version": "3.11.7"
  }
 },
 "nbformat": 4,
 "nbformat_minor": 5
}
