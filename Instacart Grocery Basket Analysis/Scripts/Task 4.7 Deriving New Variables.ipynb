{
 "cells": [
  {
   "cell_type": "markdown",
   "id": "b0808f1d",
   "metadata": {},
   "source": [
    "# Exercise 1"
   ]
  },
  {
   "cell_type": "code",
   "execution_count": 1,
   "id": "12fdc227",
   "metadata": {},
   "outputs": [
    {
     "name": "stdout",
     "output_type": "stream",
     "text": [
      "   order_id  user_id_x  order_number_x  order_dow_x  order_hour_of_day_x  \\\n",
      "0   2539329          1               1            2                    8   \n",
      "1   2539329          1               1            2                    8   \n",
      "2   2539329          1               1            2                    8   \n",
      "3   2539329          1               1            2                    8   \n",
      "4   2539329          1               1            2                    8   \n",
      "\n",
      "   days_since_prior_order_x  product_id  add_to_cart_order  reordered  \\\n",
      "0                       NaN         196                  1          0   \n",
      "1                       NaN       14084                  2          0   \n",
      "2                       NaN       12427                  3          0   \n",
      "3                       NaN       26088                  4          0   \n",
      "4                       NaN       26405                  5          0   \n",
      "\n",
      "   user_id_y eval_set  order_number_y  order_dow_y  order_hour_of_day_y  \\\n",
      "0          1    prior               1            2                    8   \n",
      "1          1    prior               1            2                    8   \n",
      "2          1    prior               1            2                    8   \n",
      "3          1    prior               1            2                    8   \n",
      "4          1    prior               1            2                    8   \n",
      "\n",
      "   days_since_prior_order_y  prices  \n",
      "0                       0.0     9.0  \n",
      "1                       0.0    12.5  \n",
      "2                       0.0     4.4  \n",
      "3                       0.0     4.7  \n",
      "4                       0.0     1.0  \n"
     ]
    }
   ],
   "source": [
    "import pandas as pd\n",
    "import os\n",
    "\n",
    "# Set the path to the main project folder\n",
    "path = r'C:\\Users\\luis\\Desktop\\Carrer Foundry boot camp\\Python Fundamentals for Data Analysts'\n",
    "\n",
    "# Load the merged data\n",
    "pickle_path = os.path.join(path, 'Data', 'Prepared Data', 'ords_prods_prices_merged.pkl')\n",
    "df = pd.read_pickle(pickle_path)\n",
    "\n",
    "# Check the data\n",
    "print(df.head())"
   ]
  },
  {
   "cell_type": "code",
   "execution_count": 2,
   "id": "8dcacfca",
   "metadata": {},
   "outputs": [],
   "source": [
    "# Create a subset with the first 1 million rows\n",
    "df_subset = df[:1000000]"
   ]
  },
  {
   "cell_type": "code",
   "execution_count": 3,
   "id": "4533175a",
   "metadata": {},
   "outputs": [
    {
     "name": "stderr",
     "output_type": "stream",
     "text": [
      "C:\\Users\\luis\\AppData\\Local\\Temp\\ipykernel_4556\\3707245811.py:2: SettingWithCopyWarning: \n",
      "A value is trying to be set on a copy of a slice from a DataFrame.\n",
      "Try using .loc[row_indexer,col_indexer] = value instead\n",
      "\n",
      "See the caveats in the documentation: https://pandas.pydata.org/pandas-docs/stable/user_guide/indexing.html#returning-a-view-versus-a-copy\n",
      "  df_subset.loc[df_subset['prices'] <= 5, 'price_label'] = 'Low-range product'\n"
     ]
    },
    {
     "name": "stdout",
     "output_type": "stream",
     "text": [
      "price_label\n",
      "Mid-range product     673412\n",
      "Low-range product     314109\n",
      "High-range product     12413\n",
      "nan                       66\n",
      "Name: count, dtype: int64\n"
     ]
    }
   ],
   "source": [
    "# Create the price_label column using loc\n",
    "df_subset.loc[df_subset['prices'] <= 5, 'price_label'] = 'Low-range product'\n",
    "df_subset.loc[(df_subset['prices'] > 5) & (df_subset['prices'] <= 15), 'price_label'] = 'Mid-range product'\n",
    "df_subset.loc[df_subset['prices'] > 15, 'price_label'] = 'High-range product'\n",
    "\n",
    "# Check the value counts\n",
    "print(df_subset['price_label'].value_counts())\n"
   ]
  },
  {
   "cell_type": "code",
   "execution_count": 4,
   "id": "5ba571cc",
   "metadata": {},
   "outputs": [
    {
     "name": "stdout",
     "output_type": "stream",
     "text": [
      "price_label\n",
      "Mid-range product     21889009\n",
      "Low-range product     10126339\n",
      "High-range product      417682\n",
      "nan                       2029\n",
      "Name: count, dtype: int64\n"
     ]
    }
   ],
   "source": [
    "# Apply the function to the entire dataset\n",
    "df.loc[df['prices'] <= 5, 'price_label'] = 'Low-range product'\n",
    "df.loc[(df['prices'] > 5) & (df['prices'] <= 15), 'price_label'] = 'Mid-range product'\n",
    "df.loc[df['prices'] > 15, 'price_label'] = 'High-range product'\n",
    "\n",
    "# Check the value counts\n",
    "print(df['price_label'].value_counts())"
   ]
  },
  {
   "cell_type": "code",
   "execution_count": 5,
   "id": "78d4f71f",
   "metadata": {},
   "outputs": [
    {
     "name": "stdout",
     "output_type": "stream",
     "text": [
      "order_dow_x\n",
      "0    6209808\n",
      "1    5665951\n",
      "6    4500391\n",
      "2    4217868\n",
      "5    4209603\n",
      "3    3844175\n",
      "4    3787263\n",
      "Name: count, dtype: int64\n"
     ]
    }
   ],
   "source": [
    "# Check the frequency of orders by day of the week\n",
    "print(df['order_dow_x'].value_counts())"
   ]
  },
  {
   "cell_type": "code",
   "execution_count": 6,
   "id": "4c010561",
   "metadata": {},
   "outputs": [
    {
     "name": "stdout",
     "output_type": "stream",
     "text": [
      "busiest_day\n",
      "Regularly busy    692428\n",
      "Busiest day       189677\n",
      "Least busy        117895\n",
      "Name: count, dtype: int64\n"
     ]
    },
    {
     "name": "stderr",
     "output_type": "stream",
     "text": [
      "C:\\Users\\luis\\AppData\\Local\\Temp\\ipykernel_4556\\2234105133.py:11: SettingWithCopyWarning: \n",
      "A value is trying to be set on a copy of a slice from a DataFrame.\n",
      "Try using .loc[row_indexer,col_indexer] = value instead\n",
      "\n",
      "See the caveats in the documentation: https://pandas.pydata.org/pandas-docs/stable/user_guide/indexing.html#returning-a-view-versus-a-copy\n",
      "  df_subset['busiest_day'] = result\n"
     ]
    }
   ],
   "source": [
    "# Create the busiest_day column using a for loop\n",
    "result = []\n",
    "for value in df_subset['order_dow_x']:\n",
    "    if value == 0:\n",
    "        result.append('Busiest day')\n",
    "    elif value == 4:\n",
    "        result.append('Least busy')\n",
    "    else:\n",
    "        result.append('Regularly busy')\n",
    "\n",
    "df_subset['busiest_day'] = result\n",
    "\n",
    "# Check the value counts\n",
    "print(df_subset['busiest_day'].value_counts())\n"
   ]
  },
  {
   "cell_type": "code",
   "execution_count": 7,
   "id": "c76ff086",
   "metadata": {},
   "outputs": [
    {
     "name": "stdout",
     "output_type": "stream",
     "text": [
      "busiest_day\n",
      "Regularly busy    22437988\n",
      "Busiest day        6209808\n",
      "Least busy         3787263\n",
      "Name: count, dtype: int64\n"
     ]
    }
   ],
   "source": [
    "# Create the busiest_day column for the entire dataset\n",
    "result = []\n",
    "for value in df['order_dow_x']:\n",
    "    if value == 0:\n",
    "        result.append('Busiest day')\n",
    "    elif value == 4:\n",
    "        result.append('Least busy')\n",
    "    else:\n",
    "        result.append('Regularly busy')\n",
    "\n",
    "df['busiest_day'] = result\n",
    "\n",
    "# Check the value counts\n",
    "print(df['busiest_day'].value_counts())"
   ]
  },
  {
   "cell_type": "code",
   "execution_count": 8,
   "id": "2425b5dd",
   "metadata": {},
   "outputs": [],
   "source": [
    "# Save the final DataFrame as a pickle file\n",
    "df.to_pickle(os.path.join(path, 'Data', 'Prepared Data', 'orders_products_combined_final.pkl'))\n"
   ]
  },
  {
   "cell_type": "markdown",
   "id": "c76dee5b",
   "metadata": {},
   "source": [
    "# Exercise 2"
   ]
  },
  {
   "cell_type": "markdown",
   "id": "a4cc9f70",
   "metadata": {},
   "source": [
    "## To address the updated requirements for the “busiest_day” column and also create labels for the two slowest days, we need to adjust the logic accordingly. We’ll identify the two busiest days and the two slowest days based on the frequency of orders and then label them appropriately in the dataframe.\n",
    "\n",
    "## Here's how to do it\n",
    "\n",
    "## Calculate the frequency of orders for each day of the week.\n",
    "## Identify the two busiest and two slowest days.\n",
    "## Update the dataframe with new labels for these days."
   ]
  },
  {
   "cell_type": "code",
   "execution_count": 11,
   "id": "039d2979",
   "metadata": {},
   "outputs": [],
   "source": [
    "# Calculate the frequency of orders for each day of the week\n",
    "day_counts = df_subset['order_dow_x'].value_counts().sort_values(ascending=False)"
   ]
  },
  {
   "cell_type": "code",
   "execution_count": 12,
   "id": "bb5a1fdb",
   "metadata": {},
   "outputs": [],
   "source": [
    "# Identify the two busiest and two slowest days\n",
    "busiest_days = day_counts.head(2).index.tolist()\n",
    "slowest_days = day_counts.tail(2).index.tolist()"
   ]
  },
  {
   "cell_type": "code",
   "execution_count": 15,
   "id": "af30454a",
   "metadata": {},
   "outputs": [
    {
     "name": "stderr",
     "output_type": "stream",
     "text": [
      "C:\\Users\\luis\\AppData\\Local\\Temp\\ipykernel_4556\\1707621974.py:4: SettingWithCopyWarning: \n",
      "A value is trying to be set on a copy of a slice from a DataFrame\n",
      "\n",
      "See the caveats in the documentation: https://pandas.pydata.org/pandas-docs/stable/user_guide/indexing.html#returning-a-view-versus-a-copy\n",
      "  df_subset['busiest_day'].fillna('Regularly busy', inplace=True)\n"
     ]
    }
   ],
   "source": [
    "# Define the busiest_day column using loc\n",
    "df_subset.loc[df_subset['order_dow_x'].isin(busiest_days), 'busiest_day'] = 'Busiest days'\n",
    "df_subset.loc[df_subset['order_dow_x'].isin(slowest_days), 'busiest_day'] = 'Slowest days'\n",
    "df_subset['busiest_day'].fillna('Regularly busy', inplace=True)"
   ]
  },
  {
   "cell_type": "code",
   "execution_count": 17,
   "id": "8918f2d5",
   "metadata": {},
   "outputs": [
    {
     "name": "stdout",
     "output_type": "stream",
     "text": [
      "\n",
      "Busiest Day Value Counts:\n",
      "busiest_day\n",
      "Regularly busy    404165\n",
      "Busiest days      359588\n",
      "Slowest days      236247\n",
      "Name: count, dtype: int64\n",
      "\n",
      "Subset Merged DataFrame with Updated Busiest Day Labels:\n",
      "   order_id  user_id_x  order_number_x  order_dow_x  order_hour_of_day_x  \\\n",
      "0   2539329          1               1            2                    8   \n",
      "1   2539329          1               1            2                    8   \n",
      "2   2539329          1               1            2                    8   \n",
      "3   2539329          1               1            2                    8   \n",
      "4   2539329          1               1            2                    8   \n",
      "\n",
      "   days_since_prior_order_x  product_id  add_to_cart_order  reordered  \\\n",
      "0                       NaN         196                  1          0   \n",
      "1                       NaN       14084                  2          0   \n",
      "2                       NaN       12427                  3          0   \n",
      "3                       NaN       26088                  4          0   \n",
      "4                       NaN       26405                  5          0   \n",
      "\n",
      "   user_id_y eval_set  order_number_y  order_dow_y  order_hour_of_day_y  \\\n",
      "0          1    prior               1            2                    8   \n",
      "1          1    prior               1            2                    8   \n",
      "2          1    prior               1            2                    8   \n",
      "3          1    prior               1            2                    8   \n",
      "4          1    prior               1            2                    8   \n",
      "\n",
      "   days_since_prior_order_y  prices        price_label     busiest_day  \n",
      "0                       0.0     9.0  Mid-range product  Regularly busy  \n",
      "1                       0.0    12.5  Mid-range product  Regularly busy  \n",
      "2                       0.0     4.4  Low-range product  Regularly busy  \n",
      "3                       0.0     4.7  Low-range product  Regularly busy  \n",
      "4                       0.0     1.0  Low-range product  Regularly busy  \n"
     ]
    }
   ],
   "source": [
    "# Check the value counts\n",
    "print(\"\\nBusiest Day Value Counts:\")\n",
    "print(df_subset['busiest_day'].value_counts())\n",
    "\n",
    "# Display the first few rows of the updated subset dataframe to verify the labels\n",
    "print(\"\\nSubset Merged DataFrame with Updated Busiest Day Labels:\")\n",
    "print(df_subset.head())"
   ]
  },
  {
   "cell_type": "markdown",
   "id": "5f5fdbb4",
   "metadata": {},
   "source": [
    "### The value counts show a reasonable distribution with the largest count for \"Regularly busy,\" followed by \"Busiest days\" and \"Slowest days.\" This is expected as only two days are categorized as the busiest and slowest respectively, while the remaining days fall under \"Regularly busy.\""
   ]
  },
  {
   "cell_type": "markdown",
   "id": "3f7b216d",
   "metadata": {},
   "source": [
    "# Exercise 4"
   ]
  },
  {
   "cell_type": "markdown",
   "id": "1a22e464",
   "metadata": {},
   "source": [
    "## To create the busiest_period_of_day column, we need to follow  these steps:\n",
    "\n",
    "## Calculate the frequency of orders for each hour of the day.\n",
    "## Categorize the hours into \"Most orders,\" \"Average orders,\" and \"Fewest orders.\"\n",
    "## Create the new column based on these categories."
   ]
  },
  {
   "cell_type": "code",
   "execution_count": 18,
   "id": "7f0c58ba",
   "metadata": {},
   "outputs": [],
   "source": [
    "# Calculate the frequency of orders for each hour of the day\n",
    "order_hour_freq = df['order_hour_of_day_x'].value_counts().sort_index()"
   ]
  },
  {
   "cell_type": "code",
   "execution_count": 19,
   "id": "e45c21d7",
   "metadata": {},
   "outputs": [],
   "source": [
    "# Determine the thresholds for \"Most orders,\" \"Average orders,\" and \"Fewest orders\"\n",
    "most_orders_threshold = order_hour_freq.quantile(0.75)\n",
    "fewest_orders_threshold = order_hour_freq.quantile(0.25)"
   ]
  },
  {
   "cell_type": "code",
   "execution_count": 20,
   "id": "5058e376",
   "metadata": {},
   "outputs": [],
   "source": [
    "# Create the \"busiest_period_of_day\" column\n",
    "df['busiest_period_of_day'] = df['order_hour_of_day_x'].apply(\n",
    "    lambda x: 'Most orders' if order_hour_freq[x] >= most_orders_threshold else \n",
    "              'Fewest orders' if order_hour_freq[x] <= fewest_orders_threshold else \n",
    "              'Average orders'\n",
    ")"
   ]
  },
  {
   "cell_type": "code",
   "execution_count": 21,
   "id": "8f9905f6",
   "metadata": {},
   "outputs": [
    {
     "name": "stdout",
     "output_type": "stream",
     "text": [
      "busiest_period_of_day\n",
      "Most orders       16143548\n",
      "Average orders    15694669\n",
      "Fewest orders       596842\n",
      "Name: count, dtype: int64\n"
     ]
    }
   ],
   "source": [
    "# Display the value counts for the new column to check the distribution\n",
    "print(df['busiest_period_of_day'].value_counts())"
   ]
  },
  {
   "cell_type": "code",
   "execution_count": 22,
   "id": "cc377e9d",
   "metadata": {},
   "outputs": [
    {
     "name": "stdout",
     "output_type": "stream",
     "text": [
      "   order_id  user_id_x  order_number_x  order_dow_x  order_hour_of_day_x  \\\n",
      "0   2539329          1               1            2                    8   \n",
      "1   2539329          1               1            2                    8   \n",
      "2   2539329          1               1            2                    8   \n",
      "3   2539329          1               1            2                    8   \n",
      "4   2539329          1               1            2                    8   \n",
      "\n",
      "   days_since_prior_order_x  product_id  add_to_cart_order  reordered  \\\n",
      "0                       NaN         196                  1          0   \n",
      "1                       NaN       14084                  2          0   \n",
      "2                       NaN       12427                  3          0   \n",
      "3                       NaN       26088                  4          0   \n",
      "4                       NaN       26405                  5          0   \n",
      "\n",
      "   user_id_y eval_set  order_number_y  order_dow_y  order_hour_of_day_y  \\\n",
      "0          1    prior               1            2                    8   \n",
      "1          1    prior               1            2                    8   \n",
      "2          1    prior               1            2                    8   \n",
      "3          1    prior               1            2                    8   \n",
      "4          1    prior               1            2                    8   \n",
      "\n",
      "   days_since_prior_order_y  prices        price_label     busiest_day  \\\n",
      "0                       0.0     9.0  Mid-range product  Regularly busy   \n",
      "1                       0.0    12.5  Mid-range product  Regularly busy   \n",
      "2                       0.0     4.4  Low-range product  Regularly busy   \n",
      "3                       0.0     4.7  Low-range product  Regularly busy   \n",
      "4                       0.0     1.0  Low-range product  Regularly busy   \n",
      "\n",
      "  busiest_period_of_day  \n",
      "0        Average orders  \n",
      "1        Average orders  \n",
      "2        Average orders  \n",
      "3        Average orders  \n",
      "4        Average orders  \n"
     ]
    }
   ],
   "source": [
    "# Display the first few rows of the dataframe to verify the new column\n",
    "print(df.head())"
   ]
  },
  {
   "cell_type": "markdown",
   "id": "fc15484e",
   "metadata": {},
   "source": [
    "# Exercise 5"
   ]
  },
  {
   "cell_type": "code",
   "execution_count": 23,
   "id": "619ad50e",
   "metadata": {},
   "outputs": [],
   "source": [
    "# Define time periods\n",
    "time_periods = {\n",
    "    \"Most orders\": [10, 11, 12, 13, 14],\n",
    "    \"Average orders\": [7, 8, 9, 15, 16, 17, 18, 19],\n",
    "    \"Fewest orders\": [0, 1, 2, 3, 4, 5, 6, 20, 21, 22, 23]\n",
    "}"
   ]
  },
  {
   "cell_type": "code",
   "execution_count": 25,
   "id": "895df3bf",
   "metadata": {},
   "outputs": [
    {
     "name": "stdout",
     "output_type": "stream",
     "text": [
      "busiest_period_of_day\n",
      "Most orders       16143548\n",
      "Average orders    15694669\n",
      "Fewest orders       596842\n",
      "Name: count, dtype: int64\n"
     ]
    }
   ],
   "source": [
    "# Print the frequency of the new column\n",
    "busiest_period_freq = df['busiest_period_of_day'].value_counts()\n",
    "print(busiest_period_freq)"
   ]
  },
  {
   "cell_type": "code",
   "execution_count": 26,
   "id": "d3b5a7db",
   "metadata": {},
   "outputs": [],
   "source": [
    "# Export the dataframe to a pickle file\n",
    "output_path = os.path.join(path, 'Data', 'Prepared Data', 'ords_prods_with_busiest_period.pkl')\n",
    "df.to_pickle(output_path)"
   ]
  },
  {
   "cell_type": "code",
   "execution_count": null,
   "id": "8509458a",
   "metadata": {},
   "outputs": [],
   "source": []
  },
  {
   "cell_type": "code",
   "execution_count": null,
   "id": "197ff090",
   "metadata": {},
   "outputs": [],
   "source": []
  },
  {
   "cell_type": "code",
   "execution_count": null,
   "id": "ad1b0b5e",
   "metadata": {},
   "outputs": [],
   "source": []
  },
  {
   "cell_type": "code",
   "execution_count": null,
   "id": "ee735228",
   "metadata": {},
   "outputs": [],
   "source": []
  },
  {
   "cell_type": "code",
   "execution_count": null,
   "id": "66856495",
   "metadata": {},
   "outputs": [],
   "source": []
  },
  {
   "cell_type": "code",
   "execution_count": null,
   "id": "ccfcdd4d",
   "metadata": {},
   "outputs": [],
   "source": []
  },
  {
   "cell_type": "code",
   "execution_count": null,
   "id": "0ba06faa",
   "metadata": {},
   "outputs": [],
   "source": []
  },
  {
   "cell_type": "code",
   "execution_count": null,
   "id": "59e08188",
   "metadata": {},
   "outputs": [],
   "source": []
  }
 ],
 "metadata": {
  "kernelspec": {
   "display_name": "Python 3 (ipykernel)",
   "language": "python",
   "name": "python3"
  },
  "language_info": {
   "codemirror_mode": {
    "name": "ipython",
    "version": 3
   },
   "file_extension": ".py",
   "mimetype": "text/x-python",
   "name": "python",
   "nbconvert_exporter": "python",
   "pygments_lexer": "ipython3",
   "version": "3.11.7"
  }
 },
 "nbformat": 4,
 "nbformat_minor": 5
}
