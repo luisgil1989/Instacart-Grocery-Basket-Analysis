{
 "cells": [
  {
   "cell_type": "markdown",
   "metadata": {},
   "source": [
    "# They also want to know whether there are particular times of the day when people spend the most money, as this might inform the type of products they advertise at these times."
   ]
  },
  {
   "cell_type": "code",
   "execution_count": 1,
   "metadata": {},
   "outputs": [
    {
     "name": "stdout",
     "output_type": "stream",
     "text": [
      "   order_id  user_id  order_number  order_dow  order_hour_of_day  \\\n",
      "0   2539329        1             1          2                  8   \n",
      "1   2398795        1             2          3                  7   \n",
      "2    473747        1             3          3                 12   \n",
      "3   2254736        1             4          4                  7   \n",
      "4    431534        1             5          4                 15   \n",
      "\n",
      "   days_since_prior_order  product_id  add_to_cart_order  reordered eval_set  \\\n",
      "0                     NaN         196                  1          0    prior   \n",
      "1                    15.0         196                  1          1    prior   \n",
      "2                    21.0         196                  1          1    prior   \n",
      "3                    29.0         196                  1          1    prior   \n",
      "4                    28.0         196                  1          1    prior   \n",
      "\n",
      "   ...   order_frequency_flag  first_name  surname  gender    state   age  \\\n",
      "0  ...  Non-frequent customer       Linda   Nguyen  Female  Alabama  31.0   \n",
      "1  ...  Non-frequent customer       Linda   Nguyen  Female  Alabama  31.0   \n",
      "2  ...  Non-frequent customer       Linda   Nguyen  Female  Alabama  31.0   \n",
      "3  ...  Non-frequent customer       Linda   Nguyen  Female  Alabama  31.0   \n",
      "4  ...  Non-frequent customer       Linda   Nguyen  Female  Alabama  31.0   \n",
      "\n",
      "   date_joined num_dependents  family_status   income  \n",
      "0   2019-02-17            3.0        married  40423.0  \n",
      "1   2019-02-17            3.0        married  40423.0  \n",
      "2   2019-02-17            3.0        married  40423.0  \n",
      "3   2019-02-17            3.0        married  40423.0  \n",
      "4   2019-02-17            3.0        married  40423.0  \n",
      "\n",
      "[5 rows x 29 columns]\n"
     ]
    }
   ],
   "source": [
    "import os\n",
    "import pandas as pd\n",
    "from botocore.client import Config\n",
    "import ibm_boto3\n",
    "import io\n",
    "import matplotlib.pyplot as plt\n",
    "\n",
    "# Define a function to load the pickle file from IBM COS\n",
    "def load_pickle_from_cos(bucket, key, client):\n",
    "    # Get the object from the bucket\n",
    "    response = client.get_object(Bucket=bucket, Key=key)\n",
    "    \n",
    "    # Read the object content\n",
    "    object_content = response['Body'].read()\n",
    "    \n",
    "    # Load the pickle file into a DataFrame\n",
    "    df = pd.read_pickle(io.BytesIO(object_content))\n",
    "    return df\n",
    "\n",
    "# Initialize the COS client\n",
    "cos_client = ibm_boto3.client(service_name='s3',\n",
    "    ibm_api_key_id='MjJB2foti-ACb0aum6tpr_MABhlskLbgK4djDXeXLltL',\n",
    "    ibm_auth_endpoint=\"https://iam.cloud.ibm.com/oidc/token\",\n",
    "    config=Config(signature_version='oauth'),\n",
    "    endpoint_url='https://s3.private.us-south.cloud-object-storage.appdomain.cloud')\n",
    "\n",
    "bucket = 'task410-donotdelete-pr-fck0m7flgp8x29'\n",
    "object_key = 'task4.9_part1.pkl'\n",
    "\n",
    "# Load the DataFrame\n",
    "df = load_pickle_from_cos(bucket, object_key, cos_client)\n",
    "\n",
    "# Display the first few rows of the DataFrame\n",
    "print(df.head())"
   ]
  },
  {
   "cell_type": "code",
   "execution_count": 2,
   "metadata": {},
   "outputs": [],
   "source": [
    "import seaborn as sns"
   ]
  },
  {
   "cell_type": "code",
   "execution_count": 3,
   "metadata": {},
   "outputs": [],
   "source": [
    "# Calculate the total spending for each hour of the day\n",
    "hourly_spending = df.groupby('order_hour_of_day')['prices'].sum()"
   ]
  },
  {
   "cell_type": "code",
   "execution_count": 4,
   "metadata": {},
   "outputs": [
    {
     "data": {
      "image/png": "[encoded data removed]",
      "text/plain": [
       "<Figure size 1200x600 with 1 Axes>"
      ]
     },
     "metadata": {},
     "output_type": "display_data"
    }
   ],
   "source": [
    "# Plot the results\n",
    "plt.figure(figsize=(12, 6))\n",
    "sns.barplot(x=hourly_spending.index, y=hourly_spending.values, palette=\"viridis\")\n",
    "plt.title('Total Spending by Hour of the Day')\n",
    "plt.xlabel('Hour of the Day')\n",
    "plt.ylabel('Total Spending')\n",
    "plt.show()"
   ]
  },
  {
   "cell_type": "markdown",
   "metadata": {},
   "source": [
    "#### Insights:\n",
    "- The total spending is highest during the late morning and early afternoon hours, particularly between 10 AM and 3 PM.\n",
    "- There is a noticeable peak in spending around 11 AM.\n",
    "- Early morning hours (before 8 AM) and late evening hours (after 8 PM) have the lowest total spending.\n",
    "\n",
    "These insights can help the sales team at Instacart decide which types of products to advertise at specific times of the day. For example, they might focus on promoting products that are typically purchased in the morning during peak spending hours, and different types of products during the evening when spending is lower.\n"
   ]
  },
  {
   "cell_type": "code",
   "execution_count": null,
   "metadata": {},
   "outputs": [],
   "source": []
  },
  {
   "cell_type": "code",
   "execution_count": null,
   "metadata": {},
   "outputs": [],
   "source": []
  },
  {
   "cell_type": "code",
   "execution_count": null,
   "metadata": {},
   "outputs": [],
   "source": []
  },
  {
   "cell_type": "code",
   "execution_count": null,
   "metadata": {},
   "outputs": [],
   "source": []
  },
  {
   "cell_type": "code",
   "execution_count": null,
   "metadata": {},
   "outputs": [],
   "source": []
  },
  {
   "cell_type": "code",
   "execution_count": null,
   "metadata": {},
   "outputs": [],
   "source": []
  },
  {
   "cell_type": "code",
   "execution_count": null,
   "metadata": {},
   "outputs": [],
   "source": []
  },
  {
   "cell_type": "code",
   "execution_count": null,
   "metadata": {},
   "outputs": [],
   "source": []
  }
 ],
 "metadata": {
  "kernelspec": {
   "display_name": "Python 3 (ipykernel)",
   "language": "python",
   "name": "python3"
  },
  "language_info": {
   "codemirror_mode": {
    "name": "ipython",
    "version": 3
   },
   "file_extension": ".py",
   "mimetype": "text/x-python",
   "name": "python",
   "nbconvert_exporter": "python",
   "pygments_lexer": "ipython3",
   "version": "3.11.7"
  }
 },
 "nbformat": 4,
 "nbformat_minor": 1
}
