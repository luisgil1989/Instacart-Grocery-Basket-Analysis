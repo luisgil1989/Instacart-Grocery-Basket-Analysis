{
 "cells": [
  {
   "cell_type": "code",
   "execution_count": 1,
   "id": "816e393f",
   "metadata": {},
   "outputs": [],
   "source": [
    "# Import necessary libraries\n",
    "import pandas as pd\n",
    "import numpy as np\n",
    "import os\n"
   ]
  },
  {
   "cell_type": "markdown",
   "id": "bf6e41dd",
   "metadata": {},
   "source": [
    "# Working with Python Data Types."
   ]
  },
  {
   "cell_type": "code",
   "execution_count": 4,
   "id": "103a8cd6",
   "metadata": {},
   "outputs": [
    {
     "name": "stdout",
     "output_type": "stream",
     "text": [
      "100 100 100\n"
     ]
    }
   ],
   "source": [
    "#  Three different ways to reach 100\n",
    "a = 50 + 50\n",
    "b = 200 - 100\n",
    "c = 25 * 4\n",
    "\n",
    "print(a, b, c)  # Output: 100 100 100\n"
   ]
  },
  {
   "cell_type": "code",
   "execution_count": 5,
   "id": "3922fd69",
   "metadata": {},
   "outputs": [
    {
     "name": "stdout",
     "output_type": "stream",
     "text": [
      "3.0\n"
     ]
    }
   ],
   "source": [
    "# Floating-point division\n",
    "x = 9.0\n",
    "y = 3.0\n",
    "result = x / y\n",
    "\n",
    "print(result)  # Output: 3.0\n"
   ]
  },
  {
   "cell_type": "code",
   "execution_count": 6,
   "id": "9edda66d",
   "metadata": {},
   "outputs": [
    {
     "name": "stdout",
     "output_type": "stream",
     "text": [
      "Python\n"
     ]
    }
   ],
   "source": [
    "# Construct a word from strings\n",
    "part1 = 'Py'\n",
    "part2 = 'thon'\n",
    "word = part1 + part2\n",
    "\n",
    "print(word)  # Output: Python\n"
   ]
  },
  {
   "cell_type": "code",
   "execution_count": 8,
   "id": "849cc750",
   "metadata": {},
   "outputs": [
    {
     "name": "stdout",
     "output_type": "stream",
     "text": [
      "My Name is Luis Gil.\n",
      "I am going to be the king of the data.\n"
     ]
    }
   ],
   "source": [
    "# Construct sentences from strings\n",
    "sentence1_part1 = 'My Name is '\n",
    "sentence1_part2 = 'Luis Gil.'\n",
    "sentence1 = sentence1_part1 + sentence1_part2\n",
    "\n",
    "sentence2_part1 = 'I am going to be '\n",
    "sentence2_part2 = 'the king of the data.'\n",
    "sentence2 = sentence2_part1 + sentence2_part2\n",
    "\n",
    "print(sentence1)  \n",
    "print(sentence2)  \n"
   ]
  },
  {
   "cell_type": "code",
   "execution_count": null,
   "id": "3844c3e6",
   "metadata": {},
   "outputs": [],
   "source": []
  }
 ],
 "metadata": {
  "kernelspec": {
   "display_name": "Python 3 (ipykernel)",
   "language": "python",
   "name": "python3"
  },
  "language_info": {
   "codemirror_mode": {
    "name": "ipython",
    "version": 3
   },
   "file_extension": ".py",
   "mimetype": "text/x-python",
   "name": "python",
   "nbconvert_exporter": "python",
   "pygments_lexer": "ipython3",
   "version": "3.11.7"
  }
 },
 "nbformat": 4,
 "nbformat_minor": 5
}
