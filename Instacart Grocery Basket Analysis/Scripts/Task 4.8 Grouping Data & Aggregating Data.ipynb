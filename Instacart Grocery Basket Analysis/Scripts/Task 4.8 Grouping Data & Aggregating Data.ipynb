{
 "cells": [
  {
   "cell_type": "code",
   "execution_count": 1,
   "id": "ae346da8",
   "metadata": {},
   "outputs": [
    {
     "name": "stdout",
     "output_type": "stream",
     "text": [
      "   order_id  user_id  order_number  order_dow  order_hour_of_day  \\\n",
      "0   2539329        1             1          2                  8   \n",
      "1   2398795        1             2          3                  7   \n",
      "2    473747        1             3          3                 12   \n",
      "3   2254736        1             4          4                  7   \n",
      "4    431534        1             5          4                 15   \n",
      "\n",
      "   days_since_prior_order  product_id  add_to_cart_order  reordered eval_set  \\\n",
      "0                     NaN         196                  1          0    prior   \n",
      "1                    15.0         196                  1          1    prior   \n",
      "2                    21.0         196                  1          1    prior   \n",
      "3                    29.0         196                  1          1    prior   \n",
      "4                    28.0         196                  1          1    prior   \n",
      "\n",
      "  product_name  aisle_id  department_id  prices  \n",
      "0         Soda        77              7     9.0  \n",
      "1         Soda        77              7     9.0  \n",
      "2         Soda        77              7     9.0  \n",
      "3         Soda        77              7     9.0  \n",
      "4         Soda        77              7     9.0  \n"
     ]
    }
   ],
   "source": [
    "# Exercise 1: Importing Libraries and Loading Data\n",
    "import pandas as pd\n",
    "import os\n",
    "\n",
    "# Set the path to the dataset\n",
    "path = r'C:\\Users\\luis\\Desktop\\Carrer Foundry boot camp\\Python Fundamentals for Data Analysts\\Data\\Prepared Data'\n",
    "file_name = 'ords_prods_merge_updated_4.8.pkl'\n",
    "file_path = os.path.join(path, file_name)\n",
    "\n",
    "# Load the dataframe\n",
    "df = pd.read_pickle(file_path)\n",
    "\n",
    "# Display the first few rows of the dataframe\n",
    "print(df.head())\n"
   ]
  },
  {
   "cell_type": "code",
   "execution_count": 2,
   "id": "6da46334",
   "metadata": {},
   "outputs": [
    {
     "name": "stdout",
     "output_type": "stream",
     "text": [
      "Number of rows of the merged data is: 32433030\n"
     ]
    }
   ],
   "source": [
    "# Number of rows in the ords_prods_merge_updated_4.8\n",
    "ords_prods_merge_rows = df.shape[0]\n",
    "print(f\"Number of rows of the merged data is: {ords_prods_merge_rows}\")"
   ]
  },
  {
   "cell_type": "code",
   "execution_count": 2,
   "id": "706d7f6c",
   "metadata": {},
   "outputs": [
    {
     "name": "stdout",
     "output_type": "stream",
     "text": [
      "department_id\n",
      "1     15.457687\n",
      "2     17.277920\n",
      "3     17.179756\n",
      "4     17.811403\n",
      "5     15.215751\n",
      "6     16.439806\n",
      "7     17.225773\n",
      "8     15.340520\n",
      "9     15.895474\n",
      "10    20.197148\n",
      "11    16.170371\n",
      "12    15.887622\n",
      "13    16.583304\n",
      "14    16.759763\n",
      "15    16.165037\n",
      "16    17.663250\n",
      "17    15.694469\n",
      "18    19.310397\n",
      "19    17.177343\n",
      "20    16.473447\n",
      "21    22.902379\n",
      "Name: order_number, dtype: float64\n"
     ]
    }
   ],
   "source": [
    "# Exercise 2: Finding Aggregated Mean of 'order_number' Grouped by 'department_id'\n",
    "# Group by 'department_id' and calculate the mean of 'order_number'\n",
    "department_order_mean = df.groupby('department_id')['order_number'].mean()\n",
    "\n",
    "# Display the results\n",
    "print(department_order_mean)"
   ]
  },
  {
   "cell_type": "markdown",
   "id": "94105829",
   "metadata": {},
   "source": [
    "# Exercise 3: Analyzing the Results\n",
    "# The results for the entire dataframe provide a complete picture of the mean 'order_number' for each 'department_id',\n",
    "# as opposed to the subset which only gives a partial view. This allows for more accurate analysis and insights."
   ]
  },
  {
   "cell_type": "code",
   "execution_count": 3,
   "id": "3ad7eceb",
   "metadata": {},
   "outputs": [
    {
     "name": "stderr",
     "output_type": "stream",
     "text": [
      "C:\\Users\\luis\\AppData\\Local\\Temp\\ipykernel_6292\\3888536576.py:5: FutureWarning: The provided callable <function max at 0x000002912C62ADE0> is currently using SeriesGroupBy.max. In a future version of pandas, the provided callable will be used directly. To keep current behavior pass the string \"max\" instead.\n",
      "  df['max_order'] = df.groupby(['user_id'])['order_number'].transform(np.max)\n"
     ]
    },
    {
     "name": "stdout",
     "output_type": "stream",
     "text": [
      "loyalty_flag\n",
      "Regular customer    15890458\n",
      "Loyal customer      10293434\n",
      "New customer         6249138\n",
      "Name: count, dtype: int64\n"
     ]
    }
   ],
   "source": [
    "# Exercise 4: Creating a Loyalty Flag for Existing Customers\n",
    "import numpy as np\n",
    "\n",
    "# Calculate the maximum order number for each user\n",
    "df['max_order'] = df.groupby(['user_id'])['order_number'].transform(np.max)\n",
    "\n",
    "# Create loyalty flag based on the max order number\n",
    "df.loc[df['max_order'] > 40, 'loyalty_flag'] = 'Loyal customer'\n",
    "df.loc[(df['max_order'] <= 40) & (df['max_order'] > 10), 'loyalty_flag'] = 'Regular customer'\n",
    "df.loc[df['max_order'] <= 10, 'loyalty_flag'] = 'New customer'\n",
    "\n",
    "# Display the frequency of the new 'loyalty_flag' column\n",
    "print(df['loyalty_flag'].value_counts())"
   ]
  },
  {
   "cell_type": "code",
   "execution_count": 4,
   "id": "e94bc260",
   "metadata": {},
   "outputs": [
    {
     "name": "stdout",
     "output_type": "stream",
     "text": [
      "                       count       mean         std  min  25%  50%   75%  \\\n",
      "loyalty_flag                                                               \n",
      "Loyal customer    10293434.0  10.388854  327.868933  1.0  4.2  7.4  11.2   \n",
      "New customer       6249138.0  13.294634  597.314116  1.0  4.2  7.4  11.3   \n",
      "Regular customer  15890458.0  12.496419  539.488515  1.0  4.2  7.4  11.3   \n",
      "\n",
      "                      max  \n",
      "loyalty_flag               \n",
      "Loyal customer    99999.0  \n",
      "New customer      99999.0  \n",
      "Regular customer  99999.0  \n"
     ]
    }
   ],
   "source": [
    "# Exercise 5: Checking Basic Statistics of Product Prices for Each Loyalty Category\n",
    "# Basic statistics of product prices for each loyalty category\n",
    "loyalty_price_stats = df.groupby('loyalty_flag')['prices'].describe()\n",
    "\n",
    "# Display the statistics\n",
    "print(loyalty_price_stats)\n"
   ]
  },
  {
   "cell_type": "code",
   "execution_count": 5,
   "id": "cb22d995",
   "metadata": {},
   "outputs": [
    {
     "name": "stderr",
     "output_type": "stream",
     "text": [
      "C:\\Users\\luis\\AppData\\Local\\Temp\\ipykernel_6292\\33158198.py:3: FutureWarning: The provided callable <function mean at 0x000002912C62B7E0> is currently using SeriesGroupBy.mean. In a future version of pandas, the provided callable will be used directly. To keep current behavior pass the string \"mean\" instead.\n",
      "  df['avg_price'] = df.groupby(['user_id'])['prices'].transform(np.mean)\n"
     ]
    },
    {
     "name": "stdout",
     "output_type": "stream",
     "text": [
      "   user_id  avg_price spending_flag\n",
      "0        1   6.367797   Low spender\n",
      "1        1   6.367797   Low spender\n",
      "2        1   6.367797   Low spender\n",
      "3        1   6.367797   Low spender\n",
      "4        1   6.367797   Low spender\n"
     ]
    }
   ],
   "source": [
    "# Exercise 6: Creating Spending Flag Based on Average Price\n",
    "# Calculate the mean price for each user\n",
    "df['avg_price'] = df.groupby(['user_id'])['prices'].transform(np.mean)\n",
    "\n",
    "# Create spending flag based on the average price\n",
    "df['spending_flag'] = df['avg_price'].apply(lambda x: 'Low spender' if x < 10 else 'High spender')\n",
    "\n",
    "# Display the first few rows of the dataframe with the new spending flag\n",
    "print(df[['user_id', 'avg_price', 'spending_flag']].head())\n"
   ]
  },
  {
   "cell_type": "code",
   "execution_count": 8,
   "id": "e12c7a3a",
   "metadata": {},
   "outputs": [
    {
     "name": "stdout",
     "output_type": "stream",
     "text": [
      "   user_id  median_days_since_prior_order   order_frequency_flag\n",
      "0        1                           20.5  Non-frequent customer\n",
      "1        1                           20.5  Non-frequent customer\n",
      "2        1                           20.5  Non-frequent customer\n",
      "3        1                           20.5  Non-frequent customer\n",
      "4        1                           20.5  Non-frequent customer\n"
     ]
    }
   ],
   "source": [
    "# Exercise 7: Creating Order Frequency Flag\n",
    "# Calculate the median days_since_prior_order for each user\n",
    "user_order_median = df.groupby('user_id')['days_since_prior_order'].median().reset_index()\n",
    "\n",
    "# Rename the column for clarity\n",
    "user_order_median.rename(columns={'days_since_prior_order': 'median_days_since_prior_order'}, inplace=True)\n",
    "\n",
    "# Merge the median days_since_prior_order back to the original dataframe\n",
    "df = df.merge(user_order_median, on='user_id', how='left')\n",
    "\n",
    "# Create order frequency flag based on the median days_since_prior_order\n",
    "def order_frequency_flag(median_days):\n",
    "    if median_days > 20:\n",
    "        return 'Non-frequent customer'\n",
    "    elif 10 < median_days <= 20:\n",
    "        return 'Regular customer'\n",
    "    else:\n",
    "        return 'Frequent customer'\n",
    "\n",
    "df['order_frequency_flag'] = df['median_days_since_prior_order'].apply(order_frequency_flag)\n",
    "\n",
    "# Display the first few rows of the dataframe with the new order frequency flag\n",
    "print(df[['user_id', 'median_days_since_prior_order', 'order_frequency_flag']].head())\n",
    "\n"
   ]
  },
  {
   "cell_type": "code",
   "execution_count": 9,
   "id": "dd858a7d",
   "metadata": {},
   "outputs": [
    {
     "data": {
      "text/html": [
       "<div>\n",
       "<style scoped>\n",
       "    .dataframe tbody tr th:only-of-type {\n",
       "        vertical-align: middle;\n",
       "    }\n",
       "\n",
       "    .dataframe tbody tr th {\n",
       "        vertical-align: top;\n",
       "    }\n",
       "\n",
       "    .dataframe thead th {\n",
       "        text-align: right;\n",
       "    }\n",
       "</style>\n",
       "<table border=\"1\" class=\"dataframe\">\n",
       "  <thead>\n",
       "    <tr style=\"text-align: right;\">\n",
       "      <th></th>\n",
       "      <th>order_id</th>\n",
       "      <th>user_id</th>\n",
       "      <th>order_number</th>\n",
       "      <th>order_dow</th>\n",
       "      <th>order_hour_of_day</th>\n",
       "      <th>days_since_prior_order</th>\n",
       "      <th>product_id</th>\n",
       "      <th>add_to_cart_order</th>\n",
       "      <th>reordered</th>\n",
       "      <th>eval_set</th>\n",
       "      <th>product_name</th>\n",
       "      <th>aisle_id</th>\n",
       "      <th>department_id</th>\n",
       "      <th>prices</th>\n",
       "      <th>max_order</th>\n",
       "      <th>loyalty_flag</th>\n",
       "      <th>avg_price</th>\n",
       "      <th>spending_flag</th>\n",
       "      <th>median_days_since_prior_order</th>\n",
       "      <th>order_frequency_flag</th>\n",
       "    </tr>\n",
       "  </thead>\n",
       "  <tbody>\n",
       "    <tr>\n",
       "      <th>0</th>\n",
       "      <td>2539329</td>\n",
       "      <td>1</td>\n",
       "      <td>1</td>\n",
       "      <td>2</td>\n",
       "      <td>8</td>\n",
       "      <td>NaN</td>\n",
       "      <td>196</td>\n",
       "      <td>1</td>\n",
       "      <td>0</td>\n",
       "      <td>prior</td>\n",
       "      <td>Soda</td>\n",
       "      <td>77</td>\n",
       "      <td>7</td>\n",
       "      <td>9.0</td>\n",
       "      <td>10</td>\n",
       "      <td>New customer</td>\n",
       "      <td>6.367797</td>\n",
       "      <td>Low spender</td>\n",
       "      <td>20.5</td>\n",
       "      <td>Non-frequent customer</td>\n",
       "    </tr>\n",
       "    <tr>\n",
       "      <th>1</th>\n",
       "      <td>2398795</td>\n",
       "      <td>1</td>\n",
       "      <td>2</td>\n",
       "      <td>3</td>\n",
       "      <td>7</td>\n",
       "      <td>15.0</td>\n",
       "      <td>196</td>\n",
       "      <td>1</td>\n",
       "      <td>1</td>\n",
       "      <td>prior</td>\n",
       "      <td>Soda</td>\n",
       "      <td>77</td>\n",
       "      <td>7</td>\n",
       "      <td>9.0</td>\n",
       "      <td>10</td>\n",
       "      <td>New customer</td>\n",
       "      <td>6.367797</td>\n",
       "      <td>Low spender</td>\n",
       "      <td>20.5</td>\n",
       "      <td>Non-frequent customer</td>\n",
       "    </tr>\n",
       "    <tr>\n",
       "      <th>2</th>\n",
       "      <td>473747</td>\n",
       "      <td>1</td>\n",
       "      <td>3</td>\n",
       "      <td>3</td>\n",
       "      <td>12</td>\n",
       "      <td>21.0</td>\n",
       "      <td>196</td>\n",
       "      <td>1</td>\n",
       "      <td>1</td>\n",
       "      <td>prior</td>\n",
       "      <td>Soda</td>\n",
       "      <td>77</td>\n",
       "      <td>7</td>\n",
       "      <td>9.0</td>\n",
       "      <td>10</td>\n",
       "      <td>New customer</td>\n",
       "      <td>6.367797</td>\n",
       "      <td>Low spender</td>\n",
       "      <td>20.5</td>\n",
       "      <td>Non-frequent customer</td>\n",
       "    </tr>\n",
       "    <tr>\n",
       "      <th>3</th>\n",
       "      <td>2254736</td>\n",
       "      <td>1</td>\n",
       "      <td>4</td>\n",
       "      <td>4</td>\n",
       "      <td>7</td>\n",
       "      <td>29.0</td>\n",
       "      <td>196</td>\n",
       "      <td>1</td>\n",
       "      <td>1</td>\n",
       "      <td>prior</td>\n",
       "      <td>Soda</td>\n",
       "      <td>77</td>\n",
       "      <td>7</td>\n",
       "      <td>9.0</td>\n",
       "      <td>10</td>\n",
       "      <td>New customer</td>\n",
       "      <td>6.367797</td>\n",
       "      <td>Low spender</td>\n",
       "      <td>20.5</td>\n",
       "      <td>Non-frequent customer</td>\n",
       "    </tr>\n",
       "    <tr>\n",
       "      <th>4</th>\n",
       "      <td>431534</td>\n",
       "      <td>1</td>\n",
       "      <td>5</td>\n",
       "      <td>4</td>\n",
       "      <td>15</td>\n",
       "      <td>28.0</td>\n",
       "      <td>196</td>\n",
       "      <td>1</td>\n",
       "      <td>1</td>\n",
       "      <td>prior</td>\n",
       "      <td>Soda</td>\n",
       "      <td>77</td>\n",
       "      <td>7</td>\n",
       "      <td>9.0</td>\n",
       "      <td>10</td>\n",
       "      <td>New customer</td>\n",
       "      <td>6.367797</td>\n",
       "      <td>Low spender</td>\n",
       "      <td>20.5</td>\n",
       "      <td>Non-frequent customer</td>\n",
       "    </tr>\n",
       "  </tbody>\n",
       "</table>\n",
       "</div>"
      ],
      "text/plain": [
       "   order_id  user_id  order_number  order_dow  order_hour_of_day  \\\n",
       "0   2539329        1             1          2                  8   \n",
       "1   2398795        1             2          3                  7   \n",
       "2    473747        1             3          3                 12   \n",
       "3   2254736        1             4          4                  7   \n",
       "4    431534        1             5          4                 15   \n",
       "\n",
       "   days_since_prior_order  product_id  add_to_cart_order  reordered eval_set  \\\n",
       "0                     NaN         196                  1          0    prior   \n",
       "1                    15.0         196                  1          1    prior   \n",
       "2                    21.0         196                  1          1    prior   \n",
       "3                    29.0         196                  1          1    prior   \n",
       "4                    28.0         196                  1          1    prior   \n",
       "\n",
       "  product_name  aisle_id  department_id  prices  max_order  loyalty_flag  \\\n",
       "0         Soda        77              7     9.0         10  New customer   \n",
       "1         Soda        77              7     9.0         10  New customer   \n",
       "2         Soda        77              7     9.0         10  New customer   \n",
       "3         Soda        77              7     9.0         10  New customer   \n",
       "4         Soda        77              7     9.0         10  New customer   \n",
       "\n",
       "   avg_price spending_flag  median_days_since_prior_order  \\\n",
       "0   6.367797   Low spender                           20.5   \n",
       "1   6.367797   Low spender                           20.5   \n",
       "2   6.367797   Low spender                           20.5   \n",
       "3   6.367797   Low spender                           20.5   \n",
       "4   6.367797   Low spender                           20.5   \n",
       "\n",
       "    order_frequency_flag  \n",
       "0  Non-frequent customer  \n",
       "1  Non-frequent customer  \n",
       "2  Non-frequent customer  \n",
       "3  Non-frequent customer  \n",
       "4  Non-frequent customer  "
      ]
     },
     "execution_count": 9,
     "metadata": {},
     "output_type": "execute_result"
    }
   ],
   "source": [
    "df.head()"
   ]
  },
  {
   "cell_type": "code",
   "execution_count": 10,
   "id": "2ca59808",
   "metadata": {},
   "outputs": [],
   "source": [
    "# Export the updated dataframe\n",
    "output_file_name = 'ords_prods_merge_with_flags_task_4.8.pkl'\n",
    "output_file_path = os.path.join(path, output_file_name)\n",
    "df.to_pickle(output_file_path)\n"
   ]
  },
  {
   "cell_type": "code",
   "execution_count": null,
   "id": "924b15d7",
   "metadata": {},
   "outputs": [],
   "source": []
  },
  {
   "cell_type": "code",
   "execution_count": null,
   "id": "db1c00eb",
   "metadata": {},
   "outputs": [],
   "source": []
  },
  {
   "cell_type": "code",
   "execution_count": null,
   "id": "922c57cd",
   "metadata": {},
   "outputs": [],
   "source": []
  },
  {
   "cell_type": "code",
   "execution_count": null,
   "id": "53465274",
   "metadata": {},
   "outputs": [],
   "source": []
  },
  {
   "cell_type": "code",
   "execution_count": null,
   "id": "4e01ed8d",
   "metadata": {},
   "outputs": [],
   "source": []
  },
  {
   "cell_type": "code",
   "execution_count": null,
   "id": "8fada009",
   "metadata": {},
   "outputs": [],
   "source": []
  },
  {
   "cell_type": "code",
   "execution_count": null,
   "id": "3f25c202",
   "metadata": {},
   "outputs": [],
   "source": []
  },
  {
   "cell_type": "code",
   "execution_count": null,
   "id": "3e305cb4",
   "metadata": {},
   "outputs": [],
   "source": []
  },
  {
   "cell_type": "code",
   "execution_count": null,
   "id": "c7f00c02",
   "metadata": {},
   "outputs": [],
   "source": []
  },
  {
   "cell_type": "code",
   "execution_count": null,
   "id": "9df69ff7",
   "metadata": {},
   "outputs": [],
   "source": []
  },
  {
   "cell_type": "code",
   "execution_count": null,
   "id": "f182ab5e",
   "metadata": {},
   "outputs": [],
   "source": []
  },
  {
   "cell_type": "code",
   "execution_count": null,
   "id": "95a4491f",
   "metadata": {},
   "outputs": [],
   "source": []
  },
  {
   "cell_type": "code",
   "execution_count": null,
   "id": "217a7aba",
   "metadata": {},
   "outputs": [],
   "source": []
  },
  {
   "cell_type": "code",
   "execution_count": null,
   "id": "b02fefbb",
   "metadata": {},
   "outputs": [],
   "source": []
  },
  {
   "cell_type": "code",
   "execution_count": null,
   "id": "f264b4f4",
   "metadata": {},
   "outputs": [],
   "source": []
  },
  {
   "cell_type": "code",
   "execution_count": null,
   "id": "62412281",
   "metadata": {},
   "outputs": [],
   "source": []
  },
  {
   "cell_type": "code",
   "execution_count": null,
   "id": "80e70b77",
   "metadata": {},
   "outputs": [],
   "source": []
  },
  {
   "cell_type": "code",
   "execution_count": null,
   "id": "7b92d023",
   "metadata": {},
   "outputs": [],
   "source": []
  },
  {
   "cell_type": "code",
   "execution_count": null,
   "id": "b13ce104",
   "metadata": {},
   "outputs": [],
   "source": []
  },
  {
   "cell_type": "code",
   "execution_count": null,
   "id": "53bc08f1",
   "metadata": {},
   "outputs": [],
   "source": []
  },
  {
   "cell_type": "code",
   "execution_count": null,
   "id": "4d25ff9a",
   "metadata": {},
   "outputs": [],
   "source": []
  },
  {
   "cell_type": "code",
   "execution_count": null,
   "id": "b07d05d7",
   "metadata": {},
   "outputs": [],
   "source": []
  },
  {
   "cell_type": "code",
   "execution_count": null,
   "id": "7f094e00",
   "metadata": {},
   "outputs": [],
   "source": []
  },
  {
   "cell_type": "code",
   "execution_count": null,
   "id": "61a1ae99",
   "metadata": {},
   "outputs": [],
   "source": []
  },
  {
   "cell_type": "code",
   "execution_count": null,
   "id": "f7bd175c",
   "metadata": {},
   "outputs": [],
   "source": []
  },
  {
   "cell_type": "code",
   "execution_count": null,
   "id": "16bad9b1",
   "metadata": {},
   "outputs": [],
   "source": []
  },
  {
   "cell_type": "code",
   "execution_count": null,
   "id": "cc6f7878",
   "metadata": {},
   "outputs": [],
   "source": []
  },
  {
   "cell_type": "code",
   "execution_count": null,
   "id": "9996877f",
   "metadata": {},
   "outputs": [],
   "source": []
  },
  {
   "cell_type": "code",
   "execution_count": null,
   "id": "d60df352",
   "metadata": {},
   "outputs": [],
   "source": []
  },
  {
   "cell_type": "code",
   "execution_count": null,
   "id": "70fb6a39",
   "metadata": {},
   "outputs": [],
   "source": []
  },
  {
   "cell_type": "code",
   "execution_count": null,
   "id": "08b9c5fd",
   "metadata": {},
   "outputs": [],
   "source": []
  },
  {
   "cell_type": "code",
   "execution_count": null,
   "id": "f6797b90",
   "metadata": {},
   "outputs": [],
   "source": []
  },
  {
   "cell_type": "code",
   "execution_count": null,
   "id": "78815f6d",
   "metadata": {},
   "outputs": [],
   "source": []
  },
  {
   "cell_type": "code",
   "execution_count": null,
   "id": "57a4af8e",
   "metadata": {},
   "outputs": [],
   "source": []
  },
  {
   "cell_type": "code",
   "execution_count": null,
   "id": "a2f74da3",
   "metadata": {},
   "outputs": [],
   "source": []
  },
  {
   "cell_type": "code",
   "execution_count": null,
   "id": "68c4a1e1",
   "metadata": {},
   "outputs": [],
   "source": []
  }
 ],
 "metadata": {
  "kernelspec": {
   "display_name": "Python 3 (ipykernel)",
   "language": "python",
   "name": "python3"
  },
  "language_info": {
   "codemirror_mode": {
    "name": "ipython",
    "version": 3
   },
   "file_extension": ".py",
   "mimetype": "text/x-python",
   "name": "python",
   "nbconvert_exporter": "python",
   "pygments_lexer": "ipython3",
   "version": "3.11.7"
  }
 },
 "nbformat": 4,
 "nbformat_minor": 5
}
