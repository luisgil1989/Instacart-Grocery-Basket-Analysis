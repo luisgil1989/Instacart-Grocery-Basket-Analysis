{
 "cells": [
  {
   "cell_type": "markdown",
   "id": "6e7bba01",
   "metadata": {},
   "source": [
    "# Import Merged DataFrame from Pickle File"
   ]
  },
  {
   "cell_type": "code",
   "execution_count": 1,
   "id": "d1871864",
   "metadata": {},
   "outputs": [
    {
     "data": {
      "text/html": [
       "<div>\n",
       "<style scoped>\n",
       "    .dataframe tbody tr th:only-of-type {\n",
       "        vertical-align: middle;\n",
       "    }\n",
       "\n",
       "    .dataframe tbody tr th {\n",
       "        vertical-align: top;\n",
       "    }\n",
       "\n",
       "    .dataframe thead th {\n",
       "        text-align: right;\n",
       "    }\n",
       "</style>\n",
       "<table border=\"1\" class=\"dataframe\">\n",
       "  <thead>\n",
       "    <tr style=\"text-align: right;\">\n",
       "      <th></th>\n",
       "      <th>order_id</th>\n",
       "      <th>user_id</th>\n",
       "      <th>order_number</th>\n",
       "      <th>order_dow</th>\n",
       "      <th>order_hour_of_day</th>\n",
       "      <th>days_since_prior_order</th>\n",
       "      <th>product_id</th>\n",
       "      <th>add_to_cart_order</th>\n",
       "      <th>reordered</th>\n",
       "      <th>_merge</th>\n",
       "    </tr>\n",
       "  </thead>\n",
       "  <tbody>\n",
       "    <tr>\n",
       "      <th>0</th>\n",
       "      <td>2539329</td>\n",
       "      <td>1</td>\n",
       "      <td>1</td>\n",
       "      <td>2</td>\n",
       "      <td>8</td>\n",
       "      <td>NaN</td>\n",
       "      <td>196</td>\n",
       "      <td>1</td>\n",
       "      <td>0</td>\n",
       "      <td>both</td>\n",
       "    </tr>\n",
       "    <tr>\n",
       "      <th>1</th>\n",
       "      <td>2539329</td>\n",
       "      <td>1</td>\n",
       "      <td>1</td>\n",
       "      <td>2</td>\n",
       "      <td>8</td>\n",
       "      <td>NaN</td>\n",
       "      <td>14084</td>\n",
       "      <td>2</td>\n",
       "      <td>0</td>\n",
       "      <td>both</td>\n",
       "    </tr>\n",
       "    <tr>\n",
       "      <th>2</th>\n",
       "      <td>2539329</td>\n",
       "      <td>1</td>\n",
       "      <td>1</td>\n",
       "      <td>2</td>\n",
       "      <td>8</td>\n",
       "      <td>NaN</td>\n",
       "      <td>12427</td>\n",
       "      <td>3</td>\n",
       "      <td>0</td>\n",
       "      <td>both</td>\n",
       "    </tr>\n",
       "    <tr>\n",
       "      <th>3</th>\n",
       "      <td>2539329</td>\n",
       "      <td>1</td>\n",
       "      <td>1</td>\n",
       "      <td>2</td>\n",
       "      <td>8</td>\n",
       "      <td>NaN</td>\n",
       "      <td>26088</td>\n",
       "      <td>4</td>\n",
       "      <td>0</td>\n",
       "      <td>both</td>\n",
       "    </tr>\n",
       "    <tr>\n",
       "      <th>4</th>\n",
       "      <td>2539329</td>\n",
       "      <td>1</td>\n",
       "      <td>1</td>\n",
       "      <td>2</td>\n",
       "      <td>8</td>\n",
       "      <td>NaN</td>\n",
       "      <td>26405</td>\n",
       "      <td>5</td>\n",
       "      <td>0</td>\n",
       "      <td>both</td>\n",
       "    </tr>\n",
       "  </tbody>\n",
       "</table>\n",
       "</div>"
      ],
      "text/plain": [
       "   order_id  user_id  order_number  order_dow  order_hour_of_day  \\\n",
       "0   2539329        1             1          2                  8   \n",
       "1   2539329        1             1          2                  8   \n",
       "2   2539329        1             1          2                  8   \n",
       "3   2539329        1             1          2                  8   \n",
       "4   2539329        1             1          2                  8   \n",
       "\n",
       "   days_since_prior_order  product_id  add_to_cart_order  reordered _merge  \n",
       "0                     NaN         196                  1          0   both  \n",
       "1                     NaN       14084                  2          0   both  \n",
       "2                     NaN       12427                  3          0   both  \n",
       "3                     NaN       26088                  4          0   both  \n",
       "4                     NaN       26405                  5          0   both  "
      ]
     },
     "execution_count": 1,
     "metadata": {},
     "output_type": "execute_result"
    }
   ],
   "source": [
    "import pandas as pd\n",
    "import os\n",
    "\n",
    "# Set the path to the main project folder\n",
    "path = r'C:\\Users\\luis\\Desktop\\Carrer Foundry boot camp\\Python Fundamentals for Data Analysts'\n",
    "\n",
    "# Set the path to the pickle file\n",
    "pickle_path = os.path.join(path, 'Data', 'Prepared Data', 'orders_products_combined.pkl')\n",
    "\n",
    "# Import the dataframe from the pickle file\n",
    "df_merged_large = pd.read_pickle(pickle_path)\n",
    "\n",
    "# Display the first few rows of the dataframe to verify successful import\n",
    "df_merged_large.head()\n"
   ]
  },
  {
   "cell_type": "markdown",
   "id": "d5e77948",
   "metadata": {},
   "source": [
    "# Check the Shape of the Imported DataFrame"
   ]
  },
  {
   "cell_type": "code",
   "execution_count": 2,
   "id": "1be68681",
   "metadata": {},
   "outputs": [
    {
     "name": "stdout",
     "output_type": "stream",
     "text": [
      "The shape of the imported dataframe is: (32434489, 10)\n"
     ]
    }
   ],
   "source": [
    "# Check the shape of the imported dataframe\n",
    "df_merged_large_shape = df_merged_large.shape\n",
    "\n",
    "# Display the shape of the dataframe\n",
    "print(f\"The shape of the imported dataframe is: {df_merged_large_shape}\")\n"
   ]
  },
  {
   "cell_type": "markdown",
   "id": "090a51b8",
   "metadata": {},
   "source": [
    "# Combining Orders and Products Data"
   ]
  },
  {
   "cell_type": "markdown",
   "id": "12cb3373",
   "metadata": {},
   "source": [
    "### Step 1: Import the Cleaned Products Data Set"
   ]
  },
  {
   "cell_type": "code",
   "execution_count": 3,
   "id": "8465cb94",
   "metadata": {},
   "outputs": [],
   "source": [
    "# Define the path to the cleaned products data set\n",
    "path_cleaned_products = r'C:\\Users\\luis\\Desktop\\Carrer Foundry boot camp\\Python Fundamentals for Data Analysts\\Data\\Prepared Data\\orders_cleaned.csv'\n",
    "\n",
    "# Import the cleaned products data set\n",
    "df_prods_clean = pd.read_csv(path_cleaned_products)\n"
   ]
  },
  {
   "cell_type": "code",
   "execution_count": 4,
   "id": "d6d1303c",
   "metadata": {},
   "outputs": [
    {
     "data": {
      "text/html": [
       "<div>\n",
       "<style scoped>\n",
       "    .dataframe tbody tr th:only-of-type {\n",
       "        vertical-align: middle;\n",
       "    }\n",
       "\n",
       "    .dataframe tbody tr th {\n",
       "        vertical-align: top;\n",
       "    }\n",
       "\n",
       "    .dataframe thead th {\n",
       "        text-align: right;\n",
       "    }\n",
       "</style>\n",
       "<table border=\"1\" class=\"dataframe\">\n",
       "  <thead>\n",
       "    <tr style=\"text-align: right;\">\n",
       "      <th></th>\n",
       "      <th>order_id</th>\n",
       "      <th>user_id</th>\n",
       "      <th>eval_set</th>\n",
       "      <th>order_number</th>\n",
       "      <th>order_dow</th>\n",
       "      <th>order_hour_of_day</th>\n",
       "      <th>days_since_prior_order</th>\n",
       "    </tr>\n",
       "  </thead>\n",
       "  <tbody>\n",
       "    <tr>\n",
       "      <th>0</th>\n",
       "      <td>2539329</td>\n",
       "      <td>1</td>\n",
       "      <td>prior</td>\n",
       "      <td>1</td>\n",
       "      <td>2</td>\n",
       "      <td>8</td>\n",
       "      <td>0.0</td>\n",
       "    </tr>\n",
       "    <tr>\n",
       "      <th>1</th>\n",
       "      <td>2398795</td>\n",
       "      <td>1</td>\n",
       "      <td>prior</td>\n",
       "      <td>2</td>\n",
       "      <td>3</td>\n",
       "      <td>7</td>\n",
       "      <td>15.0</td>\n",
       "    </tr>\n",
       "    <tr>\n",
       "      <th>2</th>\n",
       "      <td>473747</td>\n",
       "      <td>1</td>\n",
       "      <td>prior</td>\n",
       "      <td>3</td>\n",
       "      <td>3</td>\n",
       "      <td>12</td>\n",
       "      <td>21.0</td>\n",
       "    </tr>\n",
       "    <tr>\n",
       "      <th>3</th>\n",
       "      <td>2254736</td>\n",
       "      <td>1</td>\n",
       "      <td>prior</td>\n",
       "      <td>4</td>\n",
       "      <td>4</td>\n",
       "      <td>7</td>\n",
       "      <td>29.0</td>\n",
       "    </tr>\n",
       "    <tr>\n",
       "      <th>4</th>\n",
       "      <td>431534</td>\n",
       "      <td>1</td>\n",
       "      <td>prior</td>\n",
       "      <td>5</td>\n",
       "      <td>4</td>\n",
       "      <td>15</td>\n",
       "      <td>28.0</td>\n",
       "    </tr>\n",
       "  </tbody>\n",
       "</table>\n",
       "</div>"
      ],
      "text/plain": [
       "   order_id  user_id eval_set  order_number  order_dow  order_hour_of_day  \\\n",
       "0   2539329        1    prior             1          2                  8   \n",
       "1   2398795        1    prior             2          3                  7   \n",
       "2    473747        1    prior             3          3                 12   \n",
       "3   2254736        1    prior             4          4                  7   \n",
       "4    431534        1    prior             5          4                 15   \n",
       "\n",
       "   days_since_prior_order  \n",
       "0                     0.0  \n",
       "1                    15.0  \n",
       "2                    21.0  \n",
       "3                    29.0  \n",
       "4                    28.0  "
      ]
     },
     "execution_count": 4,
     "metadata": {},
     "output_type": "execute_result"
    }
   ],
   "source": [
    "# Display the head of the cleaned products dataframe\n",
    "df_prods_clean.head()"
   ]
  },
  {
   "cell_type": "markdown",
   "id": "7cbd9ab7",
   "metadata": {},
   "source": [
    "### Step 2: Merge the DataFrames"
   ]
  },
  {
   "cell_type": "code",
   "execution_count": 11,
   "id": "53a285bb",
   "metadata": {},
   "outputs": [],
   "source": [
    "# Optimize the data type of 'order_id'\n",
    "df_prods_clean['order_id'] = df_prods_clean['order_id'].astype('int32')"
   ]
  },
  {
   "cell_type": "code",
   "execution_count": 15,
   "id": "8b284ebd",
   "metadata": {},
   "outputs": [],
   "source": [
    "# Function to process chunks and merge\n",
    "def process_chunk(chunk, products_df):\n",
    "    merged_chunk = chunk.merge(products_df, on='order_id', how='inner')\n",
    "    return merged_chunk"
   ]
  },
  {
   "cell_type": "code",
   "execution_count": 16,
   "id": "8b09e21a",
   "metadata": {},
   "outputs": [],
   "source": [
    "# Split the DataFrame into smaller chunks\n",
    "chunk_size = 100000  # Adjust the chunk size as needed\n",
    "num_chunks = len(df_merged_large) // chunk_size + 1"
   ]
  },
  {
   "cell_type": "code",
   "execution_count": 17,
   "id": "20763ed2",
   "metadata": {},
   "outputs": [],
   "source": [
    "# Initialize an empty list to hold processed chunks\n",
    "chunks = []"
   ]
  },
  {
   "cell_type": "code",
   "execution_count": 18,
   "id": "c111aa57",
   "metadata": {},
   "outputs": [],
   "source": [
    "for i in range(num_chunks):\n",
    "    start = i * chunk_size\n",
    "    end = (i + 1) * chunk_size\n",
    "    chunk = df_merged_large.iloc[start:end]\n",
    "    processed_chunk = process_chunk(chunk, df_prods_clean)\n",
    "    chunks.append(process_chunk(chunk, df_prods_clean))"
   ]
  },
  {
   "cell_type": "code",
   "execution_count": 19,
   "id": "25548933",
   "metadata": {},
   "outputs": [],
   "source": [
    "# Concatenate all processed chunks into a single dataframe\n",
    "df_final_combined = pd.concat(chunks, ignore_index=True)"
   ]
  },
  {
   "cell_type": "code",
   "execution_count": 20,
   "id": "7b8b0d28",
   "metadata": {},
   "outputs": [
    {
     "name": "stdout",
     "output_type": "stream",
     "text": [
      "The shape of the final combined dataframe is: (32434489, 16)\n"
     ]
    }
   ],
   "source": [
    "# Display the shape of the final combined dataframe\n",
    "print(f\"The shape of the final combined dataframe is: {df_final_combined.shape}\")"
   ]
  },
  {
   "cell_type": "code",
   "execution_count": 21,
   "id": "8b7c431e",
   "metadata": {},
   "outputs": [
    {
     "data": {
      "text/html": [
       "<div>\n",
       "<style scoped>\n",
       "    .dataframe tbody tr th:only-of-type {\n",
       "        vertical-align: middle;\n",
       "    }\n",
       "\n",
       "    .dataframe tbody tr th {\n",
       "        vertical-align: top;\n",
       "    }\n",
       "\n",
       "    .dataframe thead th {\n",
       "        text-align: right;\n",
       "    }\n",
       "</style>\n",
       "<table border=\"1\" class=\"dataframe\">\n",
       "  <thead>\n",
       "    <tr style=\"text-align: right;\">\n",
       "      <th></th>\n",
       "      <th>order_id</th>\n",
       "      <th>user_id_x</th>\n",
       "      <th>order_number_x</th>\n",
       "      <th>order_dow_x</th>\n",
       "      <th>order_hour_of_day_x</th>\n",
       "      <th>days_since_prior_order_x</th>\n",
       "      <th>product_id</th>\n",
       "      <th>add_to_cart_order</th>\n",
       "      <th>reordered</th>\n",
       "      <th>_merge</th>\n",
       "      <th>user_id_y</th>\n",
       "      <th>eval_set</th>\n",
       "      <th>order_number_y</th>\n",
       "      <th>order_dow_y</th>\n",
       "      <th>order_hour_of_day_y</th>\n",
       "      <th>days_since_prior_order_y</th>\n",
       "    </tr>\n",
       "  </thead>\n",
       "  <tbody>\n",
       "    <tr>\n",
       "      <th>0</th>\n",
       "      <td>2539329</td>\n",
       "      <td>1</td>\n",
       "      <td>1</td>\n",
       "      <td>2</td>\n",
       "      <td>8</td>\n",
       "      <td>NaN</td>\n",
       "      <td>196</td>\n",
       "      <td>1</td>\n",
       "      <td>0</td>\n",
       "      <td>both</td>\n",
       "      <td>1</td>\n",
       "      <td>prior</td>\n",
       "      <td>1</td>\n",
       "      <td>2</td>\n",
       "      <td>8</td>\n",
       "      <td>0.0</td>\n",
       "    </tr>\n",
       "    <tr>\n",
       "      <th>1</th>\n",
       "      <td>2539329</td>\n",
       "      <td>1</td>\n",
       "      <td>1</td>\n",
       "      <td>2</td>\n",
       "      <td>8</td>\n",
       "      <td>NaN</td>\n",
       "      <td>14084</td>\n",
       "      <td>2</td>\n",
       "      <td>0</td>\n",
       "      <td>both</td>\n",
       "      <td>1</td>\n",
       "      <td>prior</td>\n",
       "      <td>1</td>\n",
       "      <td>2</td>\n",
       "      <td>8</td>\n",
       "      <td>0.0</td>\n",
       "    </tr>\n",
       "    <tr>\n",
       "      <th>2</th>\n",
       "      <td>2539329</td>\n",
       "      <td>1</td>\n",
       "      <td>1</td>\n",
       "      <td>2</td>\n",
       "      <td>8</td>\n",
       "      <td>NaN</td>\n",
       "      <td>12427</td>\n",
       "      <td>3</td>\n",
       "      <td>0</td>\n",
       "      <td>both</td>\n",
       "      <td>1</td>\n",
       "      <td>prior</td>\n",
       "      <td>1</td>\n",
       "      <td>2</td>\n",
       "      <td>8</td>\n",
       "      <td>0.0</td>\n",
       "    </tr>\n",
       "    <tr>\n",
       "      <th>3</th>\n",
       "      <td>2539329</td>\n",
       "      <td>1</td>\n",
       "      <td>1</td>\n",
       "      <td>2</td>\n",
       "      <td>8</td>\n",
       "      <td>NaN</td>\n",
       "      <td>26088</td>\n",
       "      <td>4</td>\n",
       "      <td>0</td>\n",
       "      <td>both</td>\n",
       "      <td>1</td>\n",
       "      <td>prior</td>\n",
       "      <td>1</td>\n",
       "      <td>2</td>\n",
       "      <td>8</td>\n",
       "      <td>0.0</td>\n",
       "    </tr>\n",
       "    <tr>\n",
       "      <th>4</th>\n",
       "      <td>2539329</td>\n",
       "      <td>1</td>\n",
       "      <td>1</td>\n",
       "      <td>2</td>\n",
       "      <td>8</td>\n",
       "      <td>NaN</td>\n",
       "      <td>26405</td>\n",
       "      <td>5</td>\n",
       "      <td>0</td>\n",
       "      <td>both</td>\n",
       "      <td>1</td>\n",
       "      <td>prior</td>\n",
       "      <td>1</td>\n",
       "      <td>2</td>\n",
       "      <td>8</td>\n",
       "      <td>0.0</td>\n",
       "    </tr>\n",
       "  </tbody>\n",
       "</table>\n",
       "</div>"
      ],
      "text/plain": [
       "   order_id  user_id_x  order_number_x  order_dow_x  order_hour_of_day_x  \\\n",
       "0   2539329          1               1            2                    8   \n",
       "1   2539329          1               1            2                    8   \n",
       "2   2539329          1               1            2                    8   \n",
       "3   2539329          1               1            2                    8   \n",
       "4   2539329          1               1            2                    8   \n",
       "\n",
       "   days_since_prior_order_x  product_id  add_to_cart_order  reordered _merge  \\\n",
       "0                       NaN         196                  1          0   both   \n",
       "1                       NaN       14084                  2          0   both   \n",
       "2                       NaN       12427                  3          0   both   \n",
       "3                       NaN       26088                  4          0   both   \n",
       "4                       NaN       26405                  5          0   both   \n",
       "\n",
       "   user_id_y eval_set  order_number_y  order_dow_y  order_hour_of_day_y  \\\n",
       "0          1    prior               1            2                    8   \n",
       "1          1    prior               1            2                    8   \n",
       "2          1    prior               1            2                    8   \n",
       "3          1    prior               1            2                    8   \n",
       "4          1    prior               1            2                    8   \n",
       "\n",
       "   days_since_prior_order_y  \n",
       "0                       0.0  \n",
       "1                       0.0  \n",
       "2                       0.0  \n",
       "3                       0.0  \n",
       "4                       0.0  "
      ]
     },
     "execution_count": 21,
     "metadata": {},
     "output_type": "execute_result"
    }
   ],
   "source": [
    "df_final_combined.head()"
   ]
  },
  {
   "cell_type": "code",
   "execution_count": 22,
   "id": "6b1d3cda",
   "metadata": {},
   "outputs": [
    {
     "name": "stdout",
     "output_type": "stream",
     "text": [
      "_merge\n",
      "both          32434489\n",
      "left_only            0\n",
      "right_only           0\n",
      "Name: count, dtype: int64\n"
     ]
    }
   ],
   "source": [
    "# Check the merge indicator for full match\n",
    "print(df_final_combined['_merge'].value_counts())"
   ]
  },
  {
   "cell_type": "code",
   "execution_count": 24,
   "id": "abf0a539",
   "metadata": {},
   "outputs": [],
   "source": [
    "# Save the final combined dataframe as a pickle file\n",
    "final_combined_path = os.path.join(path, 'Data', 'Prepared Data', 'ords_prods_merge.pkl')\n",
    "df_final_combined.to_pickle(final_combined_path)"
   ]
  },
  {
   "cell_type": "code",
   "execution_count": null,
   "id": "78af7f32",
   "metadata": {},
   "outputs": [],
   "source": []
  }
 ],
 "metadata": {
  "kernelspec": {
   "display_name": "Python 3 (ipykernel)",
   "language": "python",
   "name": "python3"
  },
  "language_info": {
   "codemirror_mode": {
    "name": "ipython",
    "version": 3
   },
   "file_extension": ".py",
   "mimetype": "text/x-python",
   "name": "python",
   "nbconvert_exporter": "python",
   "pygments_lexer": "ipython3",
   "version": "3.11.7"
  }
 },
 "nbformat": 4,
 "nbformat_minor": 5
}
